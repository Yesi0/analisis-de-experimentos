{
  "cells": [
    {
      "cell_type": "markdown",
      "metadata": {
        "id": "view-in-github",
        "colab_type": "text"
      },
      "source": [
        "<a href=\"https://colab.research.google.com/github/Yesi0/analisis-de-experimentos/blob/main/analisis_de_experimentos.ipynb\" target=\"_parent\"><img src=\"https://colab.research.google.com/assets/colab-badge.svg\" alt=\"Open In Colab\"/></a>"
      ]
    },
    {
      "cell_type": "markdown",
      "metadata": {
        "id": "TabbULndoNeV"
      },
      "source": [
        "<h1 style='color: blue; font-size: 34px; font-weight: bold;'> Análisis de experimentos\n",
        "</h1>\n"
      ]
    },
    {
      "cell_type": "markdown",
      "metadata": {
        "id": "dqMk7Es_oNeY"
      },
      "source": [
        "# <font color='red' style='font-size: 30px;'> Introducción al análisis de experimentos   </font>\n",
        "<hr style='border: 2px solid red;'>"
      ]
    },
    {
      "cell_type": "markdown",
      "metadata": {
        "id": "bMzKosK2oNeY"
      },
      "source": [
        "# <font color = 'purple'> Insertando el experimento en un Dataframe </font>\n",
        "\n",
        "\n",
        "<p style='margin: 30px 30px;'>\n",
        "    \n",
        "<hr style = 'border: 1px solid purple;'>"
      ]
    },
    {
      "cell_type": "markdown",
      "metadata": {
        "id": "s5HDFyikoNeY"
      },
      "source": [
        "## Importando las bibliotecas"
      ]
    },
    {
      "cell_type": "markdown",
      "metadata": {
        "id": "TLnE6iNGoNeY"
      },
      "source": [
        "### Pandas\n",
        "\n",
        "https://pandas.pydata.org/"
      ]
    },
    {
      "cell_type": "code",
      "execution_count": 1,
      "metadata": {
        "id": "NR8k_JFVoNeZ"
      },
      "outputs": [],
      "source": [
        "import pandas as pd"
      ]
    },
    {
      "cell_type": "markdown",
      "metadata": {
        "id": "nKPXDhLdoNeZ"
      },
      "source": [
        "### Numpy\n",
        "\n",
        "http://www.numpy.org/"
      ]
    },
    {
      "cell_type": "code",
      "execution_count": 2,
      "metadata": {
        "id": "KYQMlfCCoNeZ"
      },
      "outputs": [],
      "source": [
        "import numpy as np"
      ]
    },
    {
      "cell_type": "markdown",
      "metadata": {
        "id": "7INdxNr5oNeZ"
      },
      "source": [
        "<p style='font-size: 18px; line-height: 2; margin: 0px 0px; text-align: justify; text-indent: 0px;'>\n",
        "    <font color=\"red\"> <b>Pruebas realizadas en forma normalizada</b></font></p>\n",
        "\n",
        "\n",
        "\n",
        "\n",
        "\n"
      ]
    },
    {
      "cell_type": "markdown",
      "metadata": {
        "id": "wz0SgobAoNea"
      },
      "source": [
        "\n",
        "<p style='font-size: 18px; line-height: 2; margin: 0px 0px; text-align: justify; text-indent: 0px;'>\n",
        "<font color=\"MidnightBlue\"> Construyendo una matriz representando todas las pruebas realizadas:\n"
      ]
    },
    {
      "cell_type": "code",
      "execution_count": 3,
      "metadata": {
        "id": "d_kIi1VQoNea",
        "colab": {
          "base_uri": "https://localhost:8080/"
        },
        "outputId": "cd65cdd6-3475-4e54-b4a6-3eb16aa131a2"
      },
      "outputs": [
        {
          "output_type": "execute_result",
          "data": {
            "text/plain": [
              "array([[-1, -1],\n",
              "       [ 1, -1],\n",
              "       [-1,  1],\n",
              "       [ 1,  1]])"
            ]
          },
          "metadata": {},
          "execution_count": 3
        }
      ],
      "source": [
        "#Matriz para analisis factorial\n",
        "pruebas = np.array([ [-1,-1],[1,-1],[-1,1],[1,1] ]) #4 experimentos de analisis factorial\n",
        "pruebas"
      ]
    },
    {
      "cell_type": "markdown",
      "metadata": {
        "id": "bhm7nSbVoNea"
      },
      "source": [
        "### pyDOE2\n",
        "\n",
        "https://pypi.org/project/pyDOE2/"
      ]
    },
    {
      "cell_type": "code",
      "execution_count": 4,
      "metadata": {
        "id": "P_qLGv4toNea",
        "colab": {
          "base_uri": "https://localhost:8080/"
        },
        "outputId": "9d206019-969d-4fc7-f2c6-d70ead542ce5"
      },
      "outputs": [
        {
          "output_type": "stream",
          "name": "stdout",
          "text": [
            "Collecting pyDOE2\n",
            "  Downloading pyDOE2-1.3.0.tar.gz (19 kB)\n",
            "  Preparing metadata (setup.py) ... \u001b[?25l\u001b[?25hdone\n",
            "Requirement already satisfied: numpy in /usr/local/lib/python3.10/dist-packages (from pyDOE2) (1.23.5)\n",
            "Requirement already satisfied: scipy in /usr/local/lib/python3.10/dist-packages (from pyDOE2) (1.11.3)\n",
            "Building wheels for collected packages: pyDOE2\n",
            "  Building wheel for pyDOE2 (setup.py) ... \u001b[?25l\u001b[?25hdone\n",
            "  Created wheel for pyDOE2: filename=pyDOE2-1.3.0-py3-none-any.whl size=25521 sha256=7e7abb8d886518aa9de6949533730d5b93185e37225a2b3d36fd0ba8862c12db\n",
            "  Stored in directory: /root/.cache/pip/wheels/46/1f/29/6fda5c72f950841e39147ae603780ee913a62f977b4ad47ee4\n",
            "Successfully built pyDOE2\n",
            "Installing collected packages: pyDOE2\n",
            "Successfully installed pyDOE2-1.3.0\n"
          ]
        }
      ],
      "source": [
        "!pip install pyDOE2\n",
        "import pyDOE2 as doe #biblioteca que ayuda a genera matrices factoriales"
      ]
    },
    {
      "cell_type": "markdown",
      "metadata": {
        "id": "2PaO1sPUoNea"
      },
      "source": [
        "## Construyendo un diseño factorial de 2²\n"
      ]
    },
    {
      "cell_type": "code",
      "execution_count": 5,
      "metadata": {
        "id": "6LUipwy8oNea"
      },
      "outputs": [],
      "source": [
        "pruebas = doe.ff2n(2) #utilizamos doe, para factorial de 2 niveles (2n=limite superior e inferio) elevado a 2 (2), que son las 2 variables a analizar (leche y harina)"
      ]
    },
    {
      "cell_type": "code",
      "execution_count": 6,
      "metadata": {
        "id": "jPcHhr6yoNea",
        "colab": {
          "base_uri": "https://localhost:8080/"
        },
        "outputId": "e6606022-2a16-44b2-b0c8-86197cfb2599"
      },
      "outputs": [
        {
          "output_type": "execute_result",
          "data": {
            "text/plain": [
              "array([[-1., -1.],\n",
              "       [ 1., -1.],\n",
              "       [-1.,  1.],\n",
              "       [ 1.,  1.]])"
            ]
          },
          "metadata": {},
          "execution_count": 6
        }
      ],
      "source": [
        "pruebas"
      ]
    },
    {
      "cell_type": "markdown",
      "metadata": {
        "id": "QuzCFE-EoNea"
      },
      "source": [
        "## Insertando el diseño en un Dataframe"
      ]
    },
    {
      "cell_type": "code",
      "execution_count": 7,
      "metadata": {
        "id": "GZ8eMuJ5oNeb"
      },
      "outputs": [],
      "source": [
        "experimento = pd.DataFrame(pruebas, columns = ['Harina','Leche']) #convirtiendo el array pruebas en un dataFrame"
      ]
    },
    {
      "cell_type": "code",
      "execution_count": 8,
      "metadata": {
        "id": "2WJM60tdoNeb",
        "colab": {
          "base_uri": "https://localhost:8080/",
          "height": 174
        },
        "outputId": "982746bf-622a-4a53-f2a3-834d35c1827e"
      },
      "outputs": [
        {
          "output_type": "execute_result",
          "data": {
            "text/plain": [
              "   Harina  Leche\n",
              "0    -1.0   -1.0\n",
              "1     1.0   -1.0\n",
              "2    -1.0    1.0\n",
              "3     1.0    1.0"
            ],
            "text/html": [
              "\n",
              "  <div id=\"df-a5663c3c-dc16-4ba3-93a1-b07c8c99ed6e\" class=\"colab-df-container\">\n",
              "    <div>\n",
              "<style scoped>\n",
              "    .dataframe tbody tr th:only-of-type {\n",
              "        vertical-align: middle;\n",
              "    }\n",
              "\n",
              "    .dataframe tbody tr th {\n",
              "        vertical-align: top;\n",
              "    }\n",
              "\n",
              "    .dataframe thead th {\n",
              "        text-align: right;\n",
              "    }\n",
              "</style>\n",
              "<table border=\"1\" class=\"dataframe\">\n",
              "  <thead>\n",
              "    <tr style=\"text-align: right;\">\n",
              "      <th></th>\n",
              "      <th>Harina</th>\n",
              "      <th>Leche</th>\n",
              "    </tr>\n",
              "  </thead>\n",
              "  <tbody>\n",
              "    <tr>\n",
              "      <th>0</th>\n",
              "      <td>-1.0</td>\n",
              "      <td>-1.0</td>\n",
              "    </tr>\n",
              "    <tr>\n",
              "      <th>1</th>\n",
              "      <td>1.0</td>\n",
              "      <td>-1.0</td>\n",
              "    </tr>\n",
              "    <tr>\n",
              "      <th>2</th>\n",
              "      <td>-1.0</td>\n",
              "      <td>1.0</td>\n",
              "    </tr>\n",
              "    <tr>\n",
              "      <th>3</th>\n",
              "      <td>1.0</td>\n",
              "      <td>1.0</td>\n",
              "    </tr>\n",
              "  </tbody>\n",
              "</table>\n",
              "</div>\n",
              "    <div class=\"colab-df-buttons\">\n",
              "\n",
              "  <div class=\"colab-df-container\">\n",
              "    <button class=\"colab-df-convert\" onclick=\"convertToInteractive('df-a5663c3c-dc16-4ba3-93a1-b07c8c99ed6e')\"\n",
              "            title=\"Convert this dataframe to an interactive table.\"\n",
              "            style=\"display:none;\">\n",
              "\n",
              "  <svg xmlns=\"http://www.w3.org/2000/svg\" height=\"24px\" viewBox=\"0 -960 960 960\">\n",
              "    <path d=\"M120-120v-720h720v720H120Zm60-500h600v-160H180v160Zm220 220h160v-160H400v160Zm0 220h160v-160H400v160ZM180-400h160v-160H180v160Zm440 0h160v-160H620v160ZM180-180h160v-160H180v160Zm440 0h160v-160H620v160Z\"/>\n",
              "  </svg>\n",
              "    </button>\n",
              "\n",
              "  <style>\n",
              "    .colab-df-container {\n",
              "      display:flex;\n",
              "      gap: 12px;\n",
              "    }\n",
              "\n",
              "    .colab-df-convert {\n",
              "      background-color: #E8F0FE;\n",
              "      border: none;\n",
              "      border-radius: 50%;\n",
              "      cursor: pointer;\n",
              "      display: none;\n",
              "      fill: #1967D2;\n",
              "      height: 32px;\n",
              "      padding: 0 0 0 0;\n",
              "      width: 32px;\n",
              "    }\n",
              "\n",
              "    .colab-df-convert:hover {\n",
              "      background-color: #E2EBFA;\n",
              "      box-shadow: 0px 1px 2px rgba(60, 64, 67, 0.3), 0px 1px 3px 1px rgba(60, 64, 67, 0.15);\n",
              "      fill: #174EA6;\n",
              "    }\n",
              "\n",
              "    .colab-df-buttons div {\n",
              "      margin-bottom: 4px;\n",
              "    }\n",
              "\n",
              "    [theme=dark] .colab-df-convert {\n",
              "      background-color: #3B4455;\n",
              "      fill: #D2E3FC;\n",
              "    }\n",
              "\n",
              "    [theme=dark] .colab-df-convert:hover {\n",
              "      background-color: #434B5C;\n",
              "      box-shadow: 0px 1px 3px 1px rgba(0, 0, 0, 0.15);\n",
              "      filter: drop-shadow(0px 1px 2px rgba(0, 0, 0, 0.3));\n",
              "      fill: #FFFFFF;\n",
              "    }\n",
              "  </style>\n",
              "\n",
              "    <script>\n",
              "      const buttonEl =\n",
              "        document.querySelector('#df-a5663c3c-dc16-4ba3-93a1-b07c8c99ed6e button.colab-df-convert');\n",
              "      buttonEl.style.display =\n",
              "        google.colab.kernel.accessAllowed ? 'block' : 'none';\n",
              "\n",
              "      async function convertToInteractive(key) {\n",
              "        const element = document.querySelector('#df-a5663c3c-dc16-4ba3-93a1-b07c8c99ed6e');\n",
              "        const dataTable =\n",
              "          await google.colab.kernel.invokeFunction('convertToInteractive',\n",
              "                                                    [key], {});\n",
              "        if (!dataTable) return;\n",
              "\n",
              "        const docLinkHtml = 'Like what you see? Visit the ' +\n",
              "          '<a target=\"_blank\" href=https://colab.research.google.com/notebooks/data_table.ipynb>data table notebook</a>'\n",
              "          + ' to learn more about interactive tables.';\n",
              "        element.innerHTML = '';\n",
              "        dataTable['output_type'] = 'display_data';\n",
              "        await google.colab.output.renderOutput(dataTable, element);\n",
              "        const docLink = document.createElement('div');\n",
              "        docLink.innerHTML = docLinkHtml;\n",
              "        element.appendChild(docLink);\n",
              "      }\n",
              "    </script>\n",
              "  </div>\n",
              "\n",
              "\n",
              "<div id=\"df-08d5fe04-4d23-4be4-8175-c06016a0d12d\">\n",
              "  <button class=\"colab-df-quickchart\" onclick=\"quickchart('df-08d5fe04-4d23-4be4-8175-c06016a0d12d')\"\n",
              "            title=\"Suggest charts.\"\n",
              "            style=\"display:none;\">\n",
              "\n",
              "<svg xmlns=\"http://www.w3.org/2000/svg\" height=\"24px\"viewBox=\"0 0 24 24\"\n",
              "     width=\"24px\">\n",
              "    <g>\n",
              "        <path d=\"M19 3H5c-1.1 0-2 .9-2 2v14c0 1.1.9 2 2 2h14c1.1 0 2-.9 2-2V5c0-1.1-.9-2-2-2zM9 17H7v-7h2v7zm4 0h-2V7h2v10zm4 0h-2v-4h2v4z\"/>\n",
              "    </g>\n",
              "</svg>\n",
              "  </button>\n",
              "\n",
              "<style>\n",
              "  .colab-df-quickchart {\n",
              "      --bg-color: #E8F0FE;\n",
              "      --fill-color: #1967D2;\n",
              "      --hover-bg-color: #E2EBFA;\n",
              "      --hover-fill-color: #174EA6;\n",
              "      --disabled-fill-color: #AAA;\n",
              "      --disabled-bg-color: #DDD;\n",
              "  }\n",
              "\n",
              "  [theme=dark] .colab-df-quickchart {\n",
              "      --bg-color: #3B4455;\n",
              "      --fill-color: #D2E3FC;\n",
              "      --hover-bg-color: #434B5C;\n",
              "      --hover-fill-color: #FFFFFF;\n",
              "      --disabled-bg-color: #3B4455;\n",
              "      --disabled-fill-color: #666;\n",
              "  }\n",
              "\n",
              "  .colab-df-quickchart {\n",
              "    background-color: var(--bg-color);\n",
              "    border: none;\n",
              "    border-radius: 50%;\n",
              "    cursor: pointer;\n",
              "    display: none;\n",
              "    fill: var(--fill-color);\n",
              "    height: 32px;\n",
              "    padding: 0;\n",
              "    width: 32px;\n",
              "  }\n",
              "\n",
              "  .colab-df-quickchart:hover {\n",
              "    background-color: var(--hover-bg-color);\n",
              "    box-shadow: 0 1px 2px rgba(60, 64, 67, 0.3), 0 1px 3px 1px rgba(60, 64, 67, 0.15);\n",
              "    fill: var(--button-hover-fill-color);\n",
              "  }\n",
              "\n",
              "  .colab-df-quickchart-complete:disabled,\n",
              "  .colab-df-quickchart-complete:disabled:hover {\n",
              "    background-color: var(--disabled-bg-color);\n",
              "    fill: var(--disabled-fill-color);\n",
              "    box-shadow: none;\n",
              "  }\n",
              "\n",
              "  .colab-df-spinner {\n",
              "    border: 2px solid var(--fill-color);\n",
              "    border-color: transparent;\n",
              "    border-bottom-color: var(--fill-color);\n",
              "    animation:\n",
              "      spin 1s steps(1) infinite;\n",
              "  }\n",
              "\n",
              "  @keyframes spin {\n",
              "    0% {\n",
              "      border-color: transparent;\n",
              "      border-bottom-color: var(--fill-color);\n",
              "      border-left-color: var(--fill-color);\n",
              "    }\n",
              "    20% {\n",
              "      border-color: transparent;\n",
              "      border-left-color: var(--fill-color);\n",
              "      border-top-color: var(--fill-color);\n",
              "    }\n",
              "    30% {\n",
              "      border-color: transparent;\n",
              "      border-left-color: var(--fill-color);\n",
              "      border-top-color: var(--fill-color);\n",
              "      border-right-color: var(--fill-color);\n",
              "    }\n",
              "    40% {\n",
              "      border-color: transparent;\n",
              "      border-right-color: var(--fill-color);\n",
              "      border-top-color: var(--fill-color);\n",
              "    }\n",
              "    60% {\n",
              "      border-color: transparent;\n",
              "      border-right-color: var(--fill-color);\n",
              "    }\n",
              "    80% {\n",
              "      border-color: transparent;\n",
              "      border-right-color: var(--fill-color);\n",
              "      border-bottom-color: var(--fill-color);\n",
              "    }\n",
              "    90% {\n",
              "      border-color: transparent;\n",
              "      border-bottom-color: var(--fill-color);\n",
              "    }\n",
              "  }\n",
              "</style>\n",
              "\n",
              "  <script>\n",
              "    async function quickchart(key) {\n",
              "      const quickchartButtonEl =\n",
              "        document.querySelector('#' + key + ' button');\n",
              "      quickchartButtonEl.disabled = true;  // To prevent multiple clicks.\n",
              "      quickchartButtonEl.classList.add('colab-df-spinner');\n",
              "      try {\n",
              "        const charts = await google.colab.kernel.invokeFunction(\n",
              "            'suggestCharts', [key], {});\n",
              "      } catch (error) {\n",
              "        console.error('Error during call to suggestCharts:', error);\n",
              "      }\n",
              "      quickchartButtonEl.classList.remove('colab-df-spinner');\n",
              "      quickchartButtonEl.classList.add('colab-df-quickchart-complete');\n",
              "    }\n",
              "    (() => {\n",
              "      let quickchartButtonEl =\n",
              "        document.querySelector('#df-08d5fe04-4d23-4be4-8175-c06016a0d12d button');\n",
              "      quickchartButtonEl.style.display =\n",
              "        google.colab.kernel.accessAllowed ? 'block' : 'none';\n",
              "    })();\n",
              "  </script>\n",
              "</div>\n",
              "    </div>\n",
              "  </div>\n"
            ]
          },
          "metadata": {},
          "execution_count": 8
        }
      ],
      "source": [
        "experimento"
      ]
    },
    {
      "cell_type": "markdown",
      "metadata": {
        "id": "Jfew6jmYoNeb"
      },
      "source": [
        "### Insertando la columna con los resultados"
      ]
    },
    {
      "cell_type": "code",
      "execution_count": 9,
      "metadata": {
        "id": "lF-5bsd-oNeb"
      },
      "outputs": [],
      "source": [
        "experimento['Cantidades'] = [19,37,24,49]"
      ]
    },
    {
      "cell_type": "code",
      "execution_count": 10,
      "metadata": {
        "id": "567zqGBToNeb",
        "colab": {
          "base_uri": "https://localhost:8080/",
          "height": 174
        },
        "outputId": "e215743c-ebe6-4082-a4be-45f7667334e8"
      },
      "outputs": [
        {
          "output_type": "execute_result",
          "data": {
            "text/plain": [
              "   Harina  Leche  Cantidades\n",
              "0    -1.0   -1.0          19\n",
              "1     1.0   -1.0          37\n",
              "2    -1.0    1.0          24\n",
              "3     1.0    1.0          49"
            ],
            "text/html": [
              "\n",
              "  <div id=\"df-ccc8c495-a540-41ec-9df3-27d819b3d1e1\" class=\"colab-df-container\">\n",
              "    <div>\n",
              "<style scoped>\n",
              "    .dataframe tbody tr th:only-of-type {\n",
              "        vertical-align: middle;\n",
              "    }\n",
              "\n",
              "    .dataframe tbody tr th {\n",
              "        vertical-align: top;\n",
              "    }\n",
              "\n",
              "    .dataframe thead th {\n",
              "        text-align: right;\n",
              "    }\n",
              "</style>\n",
              "<table border=\"1\" class=\"dataframe\">\n",
              "  <thead>\n",
              "    <tr style=\"text-align: right;\">\n",
              "      <th></th>\n",
              "      <th>Harina</th>\n",
              "      <th>Leche</th>\n",
              "      <th>Cantidades</th>\n",
              "    </tr>\n",
              "  </thead>\n",
              "  <tbody>\n",
              "    <tr>\n",
              "      <th>0</th>\n",
              "      <td>-1.0</td>\n",
              "      <td>-1.0</td>\n",
              "      <td>19</td>\n",
              "    </tr>\n",
              "    <tr>\n",
              "      <th>1</th>\n",
              "      <td>1.0</td>\n",
              "      <td>-1.0</td>\n",
              "      <td>37</td>\n",
              "    </tr>\n",
              "    <tr>\n",
              "      <th>2</th>\n",
              "      <td>-1.0</td>\n",
              "      <td>1.0</td>\n",
              "      <td>24</td>\n",
              "    </tr>\n",
              "    <tr>\n",
              "      <th>3</th>\n",
              "      <td>1.0</td>\n",
              "      <td>1.0</td>\n",
              "      <td>49</td>\n",
              "    </tr>\n",
              "  </tbody>\n",
              "</table>\n",
              "</div>\n",
              "    <div class=\"colab-df-buttons\">\n",
              "\n",
              "  <div class=\"colab-df-container\">\n",
              "    <button class=\"colab-df-convert\" onclick=\"convertToInteractive('df-ccc8c495-a540-41ec-9df3-27d819b3d1e1')\"\n",
              "            title=\"Convert this dataframe to an interactive table.\"\n",
              "            style=\"display:none;\">\n",
              "\n",
              "  <svg xmlns=\"http://www.w3.org/2000/svg\" height=\"24px\" viewBox=\"0 -960 960 960\">\n",
              "    <path d=\"M120-120v-720h720v720H120Zm60-500h600v-160H180v160Zm220 220h160v-160H400v160Zm0 220h160v-160H400v160ZM180-400h160v-160H180v160Zm440 0h160v-160H620v160ZM180-180h160v-160H180v160Zm440 0h160v-160H620v160Z\"/>\n",
              "  </svg>\n",
              "    </button>\n",
              "\n",
              "  <style>\n",
              "    .colab-df-container {\n",
              "      display:flex;\n",
              "      gap: 12px;\n",
              "    }\n",
              "\n",
              "    .colab-df-convert {\n",
              "      background-color: #E8F0FE;\n",
              "      border: none;\n",
              "      border-radius: 50%;\n",
              "      cursor: pointer;\n",
              "      display: none;\n",
              "      fill: #1967D2;\n",
              "      height: 32px;\n",
              "      padding: 0 0 0 0;\n",
              "      width: 32px;\n",
              "    }\n",
              "\n",
              "    .colab-df-convert:hover {\n",
              "      background-color: #E2EBFA;\n",
              "      box-shadow: 0px 1px 2px rgba(60, 64, 67, 0.3), 0px 1px 3px 1px rgba(60, 64, 67, 0.15);\n",
              "      fill: #174EA6;\n",
              "    }\n",
              "\n",
              "    .colab-df-buttons div {\n",
              "      margin-bottom: 4px;\n",
              "    }\n",
              "\n",
              "    [theme=dark] .colab-df-convert {\n",
              "      background-color: #3B4455;\n",
              "      fill: #D2E3FC;\n",
              "    }\n",
              "\n",
              "    [theme=dark] .colab-df-convert:hover {\n",
              "      background-color: #434B5C;\n",
              "      box-shadow: 0px 1px 3px 1px rgba(0, 0, 0, 0.15);\n",
              "      filter: drop-shadow(0px 1px 2px rgba(0, 0, 0, 0.3));\n",
              "      fill: #FFFFFF;\n",
              "    }\n",
              "  </style>\n",
              "\n",
              "    <script>\n",
              "      const buttonEl =\n",
              "        document.querySelector('#df-ccc8c495-a540-41ec-9df3-27d819b3d1e1 button.colab-df-convert');\n",
              "      buttonEl.style.display =\n",
              "        google.colab.kernel.accessAllowed ? 'block' : 'none';\n",
              "\n",
              "      async function convertToInteractive(key) {\n",
              "        const element = document.querySelector('#df-ccc8c495-a540-41ec-9df3-27d819b3d1e1');\n",
              "        const dataTable =\n",
              "          await google.colab.kernel.invokeFunction('convertToInteractive',\n",
              "                                                    [key], {});\n",
              "        if (!dataTable) return;\n",
              "\n",
              "        const docLinkHtml = 'Like what you see? Visit the ' +\n",
              "          '<a target=\"_blank\" href=https://colab.research.google.com/notebooks/data_table.ipynb>data table notebook</a>'\n",
              "          + ' to learn more about interactive tables.';\n",
              "        element.innerHTML = '';\n",
              "        dataTable['output_type'] = 'display_data';\n",
              "        await google.colab.output.renderOutput(dataTable, element);\n",
              "        const docLink = document.createElement('div');\n",
              "        docLink.innerHTML = docLinkHtml;\n",
              "        element.appendChild(docLink);\n",
              "      }\n",
              "    </script>\n",
              "  </div>\n",
              "\n",
              "\n",
              "<div id=\"df-c79cb571-9a97-45fa-a59e-fb1c186c77d5\">\n",
              "  <button class=\"colab-df-quickchart\" onclick=\"quickchart('df-c79cb571-9a97-45fa-a59e-fb1c186c77d5')\"\n",
              "            title=\"Suggest charts.\"\n",
              "            style=\"display:none;\">\n",
              "\n",
              "<svg xmlns=\"http://www.w3.org/2000/svg\" height=\"24px\"viewBox=\"0 0 24 24\"\n",
              "     width=\"24px\">\n",
              "    <g>\n",
              "        <path d=\"M19 3H5c-1.1 0-2 .9-2 2v14c0 1.1.9 2 2 2h14c1.1 0 2-.9 2-2V5c0-1.1-.9-2-2-2zM9 17H7v-7h2v7zm4 0h-2V7h2v10zm4 0h-2v-4h2v4z\"/>\n",
              "    </g>\n",
              "</svg>\n",
              "  </button>\n",
              "\n",
              "<style>\n",
              "  .colab-df-quickchart {\n",
              "      --bg-color: #E8F0FE;\n",
              "      --fill-color: #1967D2;\n",
              "      --hover-bg-color: #E2EBFA;\n",
              "      --hover-fill-color: #174EA6;\n",
              "      --disabled-fill-color: #AAA;\n",
              "      --disabled-bg-color: #DDD;\n",
              "  }\n",
              "\n",
              "  [theme=dark] .colab-df-quickchart {\n",
              "      --bg-color: #3B4455;\n",
              "      --fill-color: #D2E3FC;\n",
              "      --hover-bg-color: #434B5C;\n",
              "      --hover-fill-color: #FFFFFF;\n",
              "      --disabled-bg-color: #3B4455;\n",
              "      --disabled-fill-color: #666;\n",
              "  }\n",
              "\n",
              "  .colab-df-quickchart {\n",
              "    background-color: var(--bg-color);\n",
              "    border: none;\n",
              "    border-radius: 50%;\n",
              "    cursor: pointer;\n",
              "    display: none;\n",
              "    fill: var(--fill-color);\n",
              "    height: 32px;\n",
              "    padding: 0;\n",
              "    width: 32px;\n",
              "  }\n",
              "\n",
              "  .colab-df-quickchart:hover {\n",
              "    background-color: var(--hover-bg-color);\n",
              "    box-shadow: 0 1px 2px rgba(60, 64, 67, 0.3), 0 1px 3px 1px rgba(60, 64, 67, 0.15);\n",
              "    fill: var(--button-hover-fill-color);\n",
              "  }\n",
              "\n",
              "  .colab-df-quickchart-complete:disabled,\n",
              "  .colab-df-quickchart-complete:disabled:hover {\n",
              "    background-color: var(--disabled-bg-color);\n",
              "    fill: var(--disabled-fill-color);\n",
              "    box-shadow: none;\n",
              "  }\n",
              "\n",
              "  .colab-df-spinner {\n",
              "    border: 2px solid var(--fill-color);\n",
              "    border-color: transparent;\n",
              "    border-bottom-color: var(--fill-color);\n",
              "    animation:\n",
              "      spin 1s steps(1) infinite;\n",
              "  }\n",
              "\n",
              "  @keyframes spin {\n",
              "    0% {\n",
              "      border-color: transparent;\n",
              "      border-bottom-color: var(--fill-color);\n",
              "      border-left-color: var(--fill-color);\n",
              "    }\n",
              "    20% {\n",
              "      border-color: transparent;\n",
              "      border-left-color: var(--fill-color);\n",
              "      border-top-color: var(--fill-color);\n",
              "    }\n",
              "    30% {\n",
              "      border-color: transparent;\n",
              "      border-left-color: var(--fill-color);\n",
              "      border-top-color: var(--fill-color);\n",
              "      border-right-color: var(--fill-color);\n",
              "    }\n",
              "    40% {\n",
              "      border-color: transparent;\n",
              "      border-right-color: var(--fill-color);\n",
              "      border-top-color: var(--fill-color);\n",
              "    }\n",
              "    60% {\n",
              "      border-color: transparent;\n",
              "      border-right-color: var(--fill-color);\n",
              "    }\n",
              "    80% {\n",
              "      border-color: transparent;\n",
              "      border-right-color: var(--fill-color);\n",
              "      border-bottom-color: var(--fill-color);\n",
              "    }\n",
              "    90% {\n",
              "      border-color: transparent;\n",
              "      border-bottom-color: var(--fill-color);\n",
              "    }\n",
              "  }\n",
              "</style>\n",
              "\n",
              "  <script>\n",
              "    async function quickchart(key) {\n",
              "      const quickchartButtonEl =\n",
              "        document.querySelector('#' + key + ' button');\n",
              "      quickchartButtonEl.disabled = true;  // To prevent multiple clicks.\n",
              "      quickchartButtonEl.classList.add('colab-df-spinner');\n",
              "      try {\n",
              "        const charts = await google.colab.kernel.invokeFunction(\n",
              "            'suggestCharts', [key], {});\n",
              "      } catch (error) {\n",
              "        console.error('Error during call to suggestCharts:', error);\n",
              "      }\n",
              "      quickchartButtonEl.classList.remove('colab-df-spinner');\n",
              "      quickchartButtonEl.classList.add('colab-df-quickchart-complete');\n",
              "    }\n",
              "    (() => {\n",
              "      let quickchartButtonEl =\n",
              "        document.querySelector('#df-c79cb571-9a97-45fa-a59e-fb1c186c77d5 button');\n",
              "      quickchartButtonEl.style.display =\n",
              "        google.colab.kernel.accessAllowed ? 'block' : 'none';\n",
              "    })();\n",
              "  </script>\n",
              "</div>\n",
              "    </div>\n",
              "  </div>\n"
            ]
          },
          "metadata": {},
          "execution_count": 10
        }
      ],
      "source": [
        "experimento"
      ]
    },
    {
      "cell_type": "markdown",
      "metadata": {
        "id": "rqJyW12LoNeb"
      },
      "source": [
        "<hr>\n",
        "<p style='font-size: 18px; line-height: 2; margin: 0px 0px; text-align: justify; text-indent: 0px;'>\n",
        "    <font color=\"MidnightBlue\"> <b>Conclusión:</b> Finalmente tenemos nuestro experimento representado por un <i>Dataframe</i> de Pandas. Usaremos este <i>Dataframe</i> para comenzar el análisis de nuestro experimento.\n",
        "<hr>   "
      ]
    },
    {
      "cell_type": "markdown",
      "metadata": {
        "id": "S4gaSGMcoNeb"
      },
      "source": [
        "# <font color = 'purple'> Analizando gráficamente el experimento   </font>\n",
        "\n",
        "\n",
        "<p style='margin: 30px 30px;'>\n",
        "    \n",
        "<hr style = 'border: 1px solid purple;'>"
      ]
    },
    {
      "cell_type": "markdown",
      "metadata": {
        "id": "TpogskDUoNeb"
      },
      "source": [
        "###  Importando Seaborn\n",
        "\n",
        "https://seaborn.pydata.org"
      ]
    },
    {
      "cell_type": "code",
      "execution_count": 11,
      "metadata": {
        "id": "rIfGTgWpoNec"
      },
      "outputs": [],
      "source": [
        "import seaborn as sns"
      ]
    },
    {
      "cell_type": "code",
      "execution_count": 12,
      "metadata": {
        "id": "j0k6RHMsoNec"
      },
      "outputs": [],
      "source": [
        "# paletas -> Accent, Accent_r, Blues, Blues_r, BrBG, BrBG_r, BuGn, BuGn_r, BuPu, BuPu_r, CMRmap, CMRmap_r, Dark2, Dark2_r, GnBu, GnBu_r, Greens, Greens_r, Greys, Greys_r, OrRd, OrRd_r, Oranges, Oranges_r, PRGn, PRGn_r, Paired, Paired_r, Pastel1, Pastel1_r, Pastel2, Pastel2_r, PiYG, PiYG_r, PuBu, PuBuGn, PuBuGn_r, PuBu_r, PuOr, PuOr_r, PuRd, PuRd_r, Purples, Purples_r, RdBu, RdBu_r, RdGy, RdGy_r, RdPu, RdPu_r, RdYlBu, RdYlBu_r, RdYlGn, RdYlGn_r, Reds, Reds_r, Set1, Set1_r, Set2, Set2_r, Set3, Set3_r, Spectral, Spectral_r, Wistia, Wistia_r, YlGn, YlGnBu, YlGnBu_r, YlGn_r, YlOrBr, YlOrBr_r, YlOrRd, YlOrRd_r, afmhot, afmhot_r, autumn, autumn_r, binary, binary_r, bone, bone_r, brg, brg_r, bwr, bwr_r, cividis, cividis_r, cool, cool_r, coolwarm, coolwarm_r, copper, copper_r, cubehelix, cubehelix_r, flag, flag_r, gist_earth, gist_earth_r, gist_gray, gist_gray_r, gist_heat, gist_heat_r, gist_ncar, gist_ncar_r, gist_rainbow, gist_rainbow_r, gist_stern, gist_stern_r, gist_yarg, gist_yarg_r, gnuplot, gnuplot2, gnuplot2_r, gnuplot_r, gray, gray_r, hot, hot_r, hsv, hsv_r, icefire, icefire_r, inferno, inferno_r, jet, jet_r, magma, magma_r, mako, mako_r, nipy_spectral, nipy_spectral_r, ocean, ocean_r, pink, pink_r, plasma, plasma_r, prism, prism_r, rainbow, rainbow_r, rocket, rocket_r, seismic, seismic_r, spring, spring_r, summer, summer_r, tab10, tab10_r, tab20, tab20_r, tab20b, tab20b_r, tab20c, tab20c_r, terrain, terrain_r, viridis, viridis_r, vlag, vlag_r, winter, winter_r\n",
        "sns.set_palette('rocket_r')\n",
        "\n",
        "# estilo -> white, dark, whitegrid, darkgrid, ticks\n",
        "sns.set_style('darkgrid')"
      ]
    },
    {
      "cell_type": "markdown",
      "metadata": {
        "id": "K8lBIt5SoNec"
      },
      "source": [
        "### Para la Harina"
      ]
    },
    {
      "cell_type": "code",
      "execution_count": 13,
      "metadata": {
        "id": "LN-6Z3xfoNec",
        "colab": {
          "base_uri": "https://localhost:8080/",
          "height": 525
        },
        "outputId": "79748d9f-98b6-4f80-f554-1c36f3b6ece6"
      },
      "outputs": [
        {
          "output_type": "execute_result",
          "data": {
            "text/plain": [
              "<seaborn.axisgrid.FacetGrid at 0x787be7a7db10>"
            ]
          },
          "metadata": {},
          "execution_count": 13
        },
        {
          "output_type": "display_data",
          "data": {
            "text/plain": [
              "<Figure size 576.875x500 with 1 Axes>"
            ],
            "image/png": "[encoded data removed]"
          },
          "metadata": {}
        }
      ],
      "source": [
        "ax1 = sns.lmplot(data=experimento, x='Harina', y='Cantidades', ci=None, hue='Leche') #recordar que hue es para agregar otra variable al grafico\n",
        "ax1.set(xticks=(-1,1)) #modificamos los valores de los ticks de el eje X para mostrar"
      ]
    },
    {
      "cell_type": "markdown",
      "source": [
        "Interpretacion grafico: En este caso podemos ver que la harina si influye de alguna forma sobre la leche.\n",
        "Las rectas tienen una mayor inclunacion, lo que indica que la harina tiene un valor mucho mas grande que la leche, si se quieren hacer mas cantidades"
      ],
      "metadata": {
        "id": "cZ5PsHOfXgpM"
      }
    },
    {
      "cell_type": "markdown",
      "metadata": {
        "id": "GOhUN_AloNec"
      },
      "source": [
        "### Para la Leche"
      ]
    },
    {
      "cell_type": "code",
      "execution_count": 14,
      "metadata": {
        "id": "egTS4lvfoNec",
        "colab": {
          "base_uri": "https://localhost:8080/",
          "height": 525
        },
        "outputId": "54b5f62c-c760-4ee1-d30a-68b045404539"
      },
      "outputs": [
        {
          "output_type": "execute_result",
          "data": {
            "text/plain": [
              "<seaborn.axisgrid.FacetGrid at 0x787be5821600>"
            ]
          },
          "metadata": {},
          "execution_count": 14
        },
        {
          "output_type": "display_data",
          "data": {
            "text/plain": [
              "<Figure size 576.875x500 with 1 Axes>"
            ],
            "image/png": "[encoded data removed]"
          },
          "metadata": {}
        }
      ],
      "source": [
        "ax2 = sns.lmplot(data=experimento, x='Leche', y='Cantidades', ci=None, hue='Harina')\n",
        "ax2.set(xticks=(-1,1))"
      ]
    },
    {
      "cell_type": "markdown",
      "source": [
        "La leche tambien influye en el valor de la harina, esto lo podemos saber porque las rectas tienen un angulo (no estan de forma horizontal)"
      ],
      "metadata": {
        "id": "raHJ54pQXoay"
      }
    },
    {
      "cell_type": "markdown",
      "metadata": {
        "id": "OxZ31V9woNed"
      },
      "source": [
        "# <font color = 'purple'> Ajustando el modelo estadístico </font>\n",
        "\n",
        "\n",
        "<p style='margin: 30px 30px;'>\n",
        "    \n",
        "<hr style = 'border: 1px solid purple;'>"
      ]
    },
    {
      "cell_type": "markdown",
      "metadata": {
        "id": "o8AxdeWsoNed"
      },
      "source": [
        "### Bibliotecas  Stats Model\n"
      ]
    },
    {
      "cell_type": "code",
      "execution_count": 15,
      "metadata": {
        "id": "Wl5UQLKgoNed"
      },
      "outputs": [],
      "source": [
        "import statsmodels.api as sm\n",
        "import statsmodels.formula.api as smf"
      ]
    },
    {
      "cell_type": "markdown",
      "metadata": {
        "id": "Yng59OT0oNed"
      },
      "source": [
        "### ."
      ]
    },
    {
      "cell_type": "code",
      "execution_count": 16,
      "metadata": {
        "id": "-VZWdhoLoNed"
      },
      "outputs": [],
      "source": [
        "#Diseñando modelo estadistico\n",
        "modelo = smf.ols(data = experimento, formula='Cantidades ~ Harina + Leche + Harina:Leche') #Esta es la formula del modelo estadistico 'simplificada' ya que los beta y el error los va a genera la biblioteca statsmodels. el signo ~ significa igual y los 2 puntos : harina:leche es una multiplicacion\n"
      ]
    },
    {
      "cell_type": "code",
      "execution_count": 17,
      "metadata": {
        "id": "Iow2yyeKoNed"
      },
      "outputs": [],
      "source": [
        "modelo_ajustado = modelo.fit()"
      ]
    },
    {
      "cell_type": "code",
      "execution_count": 18,
      "metadata": {
        "id": "cUqup09aoNed",
        "colab": {
          "base_uri": "https://localhost:8080/"
        },
        "outputId": "bf672720-0b6b-4aa3-cf67-e10395dd8c7b"
      },
      "outputs": [
        {
          "output_type": "stream",
          "name": "stdout",
          "text": [
            "                            OLS Regression Results                            \n",
            "==============================================================================\n",
            "Dep. Variable:             Cantidades   R-squared:                       1.000\n",
            "Model:                            OLS   Adj. R-squared:                    nan\n",
            "Method:                 Least Squares   F-statistic:                       nan\n",
            "Date:                Sun, 29 Oct 2023   Prob (F-statistic):                nan\n",
            "Time:                        20:35:18   Log-Likelihood:                    inf\n",
            "No. Observations:                   4   AIC:                              -inf\n",
            "Df Residuals:                       0   BIC:                              -inf\n",
            "Df Model:                           3                                         \n",
            "Covariance Type:            nonrobust                                         \n",
            "================================================================================\n",
            "                   coef    std err          t      P>|t|      [0.025      0.975]\n",
            "--------------------------------------------------------------------------------\n",
            "Intercept       32.2500        nan        nan        nan         nan         nan\n",
            "Harina          10.7500        nan        nan        nan         nan         nan\n",
            "Leche            4.2500        nan        nan        nan         nan         nan\n",
            "Harina:Leche     1.7500        nan        nan        nan         nan         nan\n",
            "==============================================================================\n",
            "Omnibus:                          nan   Durbin-Watson:                     nan\n",
            "Prob(Omnibus):                    nan   Jarque-Bera (JB):                  nan\n",
            "Skew:                             nan   Prob(JB):                          nan\n",
            "Kurtosis:                         nan   Cond. No.                         1.00\n",
            "==============================================================================\n",
            "\n",
            "Notes:\n",
            "[1] Standard Errors assume that the covariance matrix of the errors is correctly specified.\n"
          ]
        },
        {
          "output_type": "stream",
          "name": "stderr",
          "text": [
            "/usr/local/lib/python3.10/dist-packages/statsmodels/stats/stattools.py:74: ValueWarning: omni_normtest is not valid with less than 8 observations; 4 samples were given.\n",
            "  warn(\"omni_normtest is not valid with less than 8 observations; %i \"\n",
            "/usr/local/lib/python3.10/dist-packages/statsmodels/regression/linear_model.py:1794: RuntimeWarning: divide by zero encountered in divide\n",
            "  return 1 - (np.divide(self.nobs - self.k_constant, self.df_resid)\n",
            "/usr/local/lib/python3.10/dist-packages/statsmodels/regression/linear_model.py:1794: RuntimeWarning: invalid value encountered in double_scalars\n",
            "  return 1 - (np.divide(self.nobs - self.k_constant, self.df_resid)\n",
            "/usr/local/lib/python3.10/dist-packages/statsmodels/regression/linear_model.py:956: RuntimeWarning: divide by zero encountered in log\n",
            "  llf = -nobs2*np.log(2*np.pi) - nobs2*np.log(ssr / nobs) - nobs2\n",
            "/usr/local/lib/python3.10/dist-packages/statsmodels/stats/stattools.py:50: RuntimeWarning: invalid value encountered in double_scalars\n",
            "  dw = np.sum(diff_resids**2, axis=axis) / np.sum(resids**2, axis=axis)\n",
            "/usr/local/lib/python3.10/dist-packages/statsmodels/regression/linear_model.py:1716: RuntimeWarning: invalid value encountered in double_scalars\n",
            "  return np.dot(wresid, wresid) / self.df_resid\n"
          ]
        }
      ],
      "source": [
        "print(modelo_ajustado.summary()) #summary = resumen"
      ]
    },
    {
      "cell_type": "markdown",
      "source": [
        "los resultados que nos interesa son:\n",
        "\n",
        "                   coef    std err        \n",
        "\n",
        "Intercept       32.2500        nan       \n",
        "Harina          10.7500        nan        \n",
        "Leche            4.2500        nan        \n",
        "Harina:Leche     1.7500        nan  \n",
        "\n",
        "Donde podemos ver, que la harina es mas importante que la leche, porque tiene un coeficiente mayor.\n",
        "y en los 4 experimientos que se hicierons no hubo errores (err nan)"
      ],
      "metadata": {
        "id": "z9p7kabdX48-"
      }
    },
    {
      "cell_type": "markdown",
      "metadata": {
        "id": "05Jxbl9GoNed"
      },
      "source": [
        "# <font color = 'purple'> Aumentando los Grados de libertad  </font>\n",
        "\n",
        "\n",
        "<p style='margin: 30px 30px;'>\n",
        "    \n",
        "<hr style = 'border: 1px solid purple;'>\n",
        "\n",
        "\n",
        "\n",
        "<p style='margin: 30px 30px;'>     \n",
        "    \n"
      ]
    },
    {
      "cell_type": "markdown",
      "metadata": {
        "id": "lRyuz5_YoNed"
      },
      "source": [
        "<hr>\n",
        "\n",
        "\n",
        "<p style='font-size: 18px; line-height: 2; margin: 0px 0px; text-align: justify; text-indent: 0px;'>\n",
        "    <font color=\"red\"> <b>Réplicas en el centro</b>\n",
        "\n",
        "<p style='margin: 30px 30px;'>\n",
        "    \n",
        "    \n",
        "\n",
        "    \n",
        "\n",
        "    \n",
        "<hr>    "
      ]
    },
    {
      "cell_type": "code",
      "execution_count": 19,
      "metadata": {
        "id": "ihpp4apAoNee"
      },
      "outputs": [],
      "source": [
        "centro = np.array([\n",
        "                  [0,0,29],\n",
        "                  [0,0,30],\n",
        "                  [0,0,29],\n",
        "                  [0,0,30],\n",
        "                ])"
      ]
    },
    {
      "cell_type": "code",
      "execution_count": 20,
      "metadata": {
        "id": "XqYh2f8LoNee"
      },
      "outputs": [],
      "source": [
        "centro_dataframe = pd.DataFrame(centro, columns = ['Harina','Leche','Cantidades'], index=[4,5,6,7])"
      ]
    },
    {
      "cell_type": "code",
      "execution_count": 21,
      "metadata": {
        "id": "6EZ6HpJNoNee",
        "colab": {
          "base_uri": "https://localhost:8080/",
          "height": 174
        },
        "outputId": "675f6d37-4d25-4aab-b40d-d1b8a91f7888"
      },
      "outputs": [
        {
          "output_type": "execute_result",
          "data": {
            "text/plain": [
              "   Harina  Leche  Cantidades\n",
              "4       0      0          29\n",
              "5       0      0          30\n",
              "6       0      0          29\n",
              "7       0      0          30"
            ],
            "text/html": [
              "\n",
              "  <div id=\"df-4d957819-0fd3-425a-9f5a-9ea3a454e3db\" class=\"colab-df-container\">\n",
              "    <div>\n",
              "<style scoped>\n",
              "    .dataframe tbody tr th:only-of-type {\n",
              "        vertical-align: middle;\n",
              "    }\n",
              "\n",
              "    .dataframe tbody tr th {\n",
              "        vertical-align: top;\n",
              "    }\n",
              "\n",
              "    .dataframe thead th {\n",
              "        text-align: right;\n",
              "    }\n",
              "</style>\n",
              "<table border=\"1\" class=\"dataframe\">\n",
              "  <thead>\n",
              "    <tr style=\"text-align: right;\">\n",
              "      <th></th>\n",
              "      <th>Harina</th>\n",
              "      <th>Leche</th>\n",
              "      <th>Cantidades</th>\n",
              "    </tr>\n",
              "  </thead>\n",
              "  <tbody>\n",
              "    <tr>\n",
              "      <th>4</th>\n",
              "      <td>0</td>\n",
              "      <td>0</td>\n",
              "      <td>29</td>\n",
              "    </tr>\n",
              "    <tr>\n",
              "      <th>5</th>\n",
              "      <td>0</td>\n",
              "      <td>0</td>\n",
              "      <td>30</td>\n",
              "    </tr>\n",
              "    <tr>\n",
              "      <th>6</th>\n",
              "      <td>0</td>\n",
              "      <td>0</td>\n",
              "      <td>29</td>\n",
              "    </tr>\n",
              "    <tr>\n",
              "      <th>7</th>\n",
              "      <td>0</td>\n",
              "      <td>0</td>\n",
              "      <td>30</td>\n",
              "    </tr>\n",
              "  </tbody>\n",
              "</table>\n",
              "</div>\n",
              "    <div class=\"colab-df-buttons\">\n",
              "\n",
              "  <div class=\"colab-df-container\">\n",
              "    <button class=\"colab-df-convert\" onclick=\"convertToInteractive('df-4d957819-0fd3-425a-9f5a-9ea3a454e3db')\"\n",
              "            title=\"Convert this dataframe to an interactive table.\"\n",
              "            style=\"display:none;\">\n",
              "\n",
              "  <svg xmlns=\"http://www.w3.org/2000/svg\" height=\"24px\" viewBox=\"0 -960 960 960\">\n",
              "    <path d=\"M120-120v-720h720v720H120Zm60-500h600v-160H180v160Zm220 220h160v-160H400v160Zm0 220h160v-160H400v160ZM180-400h160v-160H180v160Zm440 0h160v-160H620v160ZM180-180h160v-160H180v160Zm440 0h160v-160H620v160Z\"/>\n",
              "  </svg>\n",
              "    </button>\n",
              "\n",
              "  <style>\n",
              "    .colab-df-container {\n",
              "      display:flex;\n",
              "      gap: 12px;\n",
              "    }\n",
              "\n",
              "    .colab-df-convert {\n",
              "      background-color: #E8F0FE;\n",
              "      border: none;\n",
              "      border-radius: 50%;\n",
              "      cursor: pointer;\n",
              "      display: none;\n",
              "      fill: #1967D2;\n",
              "      height: 32px;\n",
              "      padding: 0 0 0 0;\n",
              "      width: 32px;\n",
              "    }\n",
              "\n",
              "    .colab-df-convert:hover {\n",
              "      background-color: #E2EBFA;\n",
              "      box-shadow: 0px 1px 2px rgba(60, 64, 67, 0.3), 0px 1px 3px 1px rgba(60, 64, 67, 0.15);\n",
              "      fill: #174EA6;\n",
              "    }\n",
              "\n",
              "    .colab-df-buttons div {\n",
              "      margin-bottom: 4px;\n",
              "    }\n",
              "\n",
              "    [theme=dark] .colab-df-convert {\n",
              "      background-color: #3B4455;\n",
              "      fill: #D2E3FC;\n",
              "    }\n",
              "\n",
              "    [theme=dark] .colab-df-convert:hover {\n",
              "      background-color: #434B5C;\n",
              "      box-shadow: 0px 1px 3px 1px rgba(0, 0, 0, 0.15);\n",
              "      filter: drop-shadow(0px 1px 2px rgba(0, 0, 0, 0.3));\n",
              "      fill: #FFFFFF;\n",
              "    }\n",
              "  </style>\n",
              "\n",
              "    <script>\n",
              "      const buttonEl =\n",
              "        document.querySelector('#df-4d957819-0fd3-425a-9f5a-9ea3a454e3db button.colab-df-convert');\n",
              "      buttonEl.style.display =\n",
              "        google.colab.kernel.accessAllowed ? 'block' : 'none';\n",
              "\n",
              "      async function convertToInteractive(key) {\n",
              "        const element = document.querySelector('#df-4d957819-0fd3-425a-9f5a-9ea3a454e3db');\n",
              "        const dataTable =\n",
              "          await google.colab.kernel.invokeFunction('convertToInteractive',\n",
              "                                                    [key], {});\n",
              "        if (!dataTable) return;\n",
              "\n",
              "        const docLinkHtml = 'Like what you see? Visit the ' +\n",
              "          '<a target=\"_blank\" href=https://colab.research.google.com/notebooks/data_table.ipynb>data table notebook</a>'\n",
              "          + ' to learn more about interactive tables.';\n",
              "        element.innerHTML = '';\n",
              "        dataTable['output_type'] = 'display_data';\n",
              "        await google.colab.output.renderOutput(dataTable, element);\n",
              "        const docLink = document.createElement('div');\n",
              "        docLink.innerHTML = docLinkHtml;\n",
              "        element.appendChild(docLink);\n",
              "      }\n",
              "    </script>\n",
              "  </div>\n",
              "\n",
              "\n",
              "<div id=\"df-a8044c82-57ec-44d0-8ddd-425c9d00f404\">\n",
              "  <button class=\"colab-df-quickchart\" onclick=\"quickchart('df-a8044c82-57ec-44d0-8ddd-425c9d00f404')\"\n",
              "            title=\"Suggest charts.\"\n",
              "            style=\"display:none;\">\n",
              "\n",
              "<svg xmlns=\"http://www.w3.org/2000/svg\" height=\"24px\"viewBox=\"0 0 24 24\"\n",
              "     width=\"24px\">\n",
              "    <g>\n",
              "        <path d=\"M19 3H5c-1.1 0-2 .9-2 2v14c0 1.1.9 2 2 2h14c1.1 0 2-.9 2-2V5c0-1.1-.9-2-2-2zM9 17H7v-7h2v7zm4 0h-2V7h2v10zm4 0h-2v-4h2v4z\"/>\n",
              "    </g>\n",
              "</svg>\n",
              "  </button>\n",
              "\n",
              "<style>\n",
              "  .colab-df-quickchart {\n",
              "      --bg-color: #E8F0FE;\n",
              "      --fill-color: #1967D2;\n",
              "      --hover-bg-color: #E2EBFA;\n",
              "      --hover-fill-color: #174EA6;\n",
              "      --disabled-fill-color: #AAA;\n",
              "      --disabled-bg-color: #DDD;\n",
              "  }\n",
              "\n",
              "  [theme=dark] .colab-df-quickchart {\n",
              "      --bg-color: #3B4455;\n",
              "      --fill-color: #D2E3FC;\n",
              "      --hover-bg-color: #434B5C;\n",
              "      --hover-fill-color: #FFFFFF;\n",
              "      --disabled-bg-color: #3B4455;\n",
              "      --disabled-fill-color: #666;\n",
              "  }\n",
              "\n",
              "  .colab-df-quickchart {\n",
              "    background-color: var(--bg-color);\n",
              "    border: none;\n",
              "    border-radius: 50%;\n",
              "    cursor: pointer;\n",
              "    display: none;\n",
              "    fill: var(--fill-color);\n",
              "    height: 32px;\n",
              "    padding: 0;\n",
              "    width: 32px;\n",
              "  }\n",
              "\n",
              "  .colab-df-quickchart:hover {\n",
              "    background-color: var(--hover-bg-color);\n",
              "    box-shadow: 0 1px 2px rgba(60, 64, 67, 0.3), 0 1px 3px 1px rgba(60, 64, 67, 0.15);\n",
              "    fill: var(--button-hover-fill-color);\n",
              "  }\n",
              "\n",
              "  .colab-df-quickchart-complete:disabled,\n",
              "  .colab-df-quickchart-complete:disabled:hover {\n",
              "    background-color: var(--disabled-bg-color);\n",
              "    fill: var(--disabled-fill-color);\n",
              "    box-shadow: none;\n",
              "  }\n",
              "\n",
              "  .colab-df-spinner {\n",
              "    border: 2px solid var(--fill-color);\n",
              "    border-color: transparent;\n",
              "    border-bottom-color: var(--fill-color);\n",
              "    animation:\n",
              "      spin 1s steps(1) infinite;\n",
              "  }\n",
              "\n",
              "  @keyframes spin {\n",
              "    0% {\n",
              "      border-color: transparent;\n",
              "      border-bottom-color: var(--fill-color);\n",
              "      border-left-color: var(--fill-color);\n",
              "    }\n",
              "    20% {\n",
              "      border-color: transparent;\n",
              "      border-left-color: var(--fill-color);\n",
              "      border-top-color: var(--fill-color);\n",
              "    }\n",
              "    30% {\n",
              "      border-color: transparent;\n",
              "      border-left-color: var(--fill-color);\n",
              "      border-top-color: var(--fill-color);\n",
              "      border-right-color: var(--fill-color);\n",
              "    }\n",
              "    40% {\n",
              "      border-color: transparent;\n",
              "      border-right-color: var(--fill-color);\n",
              "      border-top-color: var(--fill-color);\n",
              "    }\n",
              "    60% {\n",
              "      border-color: transparent;\n",
              "      border-right-color: var(--fill-color);\n",
              "    }\n",
              "    80% {\n",
              "      border-color: transparent;\n",
              "      border-right-color: var(--fill-color);\n",
              "      border-bottom-color: var(--fill-color);\n",
              "    }\n",
              "    90% {\n",
              "      border-color: transparent;\n",
              "      border-bottom-color: var(--fill-color);\n",
              "    }\n",
              "  }\n",
              "</style>\n",
              "\n",
              "  <script>\n",
              "    async function quickchart(key) {\n",
              "      const quickchartButtonEl =\n",
              "        document.querySelector('#' + key + ' button');\n",
              "      quickchartButtonEl.disabled = true;  // To prevent multiple clicks.\n",
              "      quickchartButtonEl.classList.add('colab-df-spinner');\n",
              "      try {\n",
              "        const charts = await google.colab.kernel.invokeFunction(\n",
              "            'suggestCharts', [key], {});\n",
              "      } catch (error) {\n",
              "        console.error('Error during call to suggestCharts:', error);\n",
              "      }\n",
              "      quickchartButtonEl.classList.remove('colab-df-spinner');\n",
              "      quickchartButtonEl.classList.add('colab-df-quickchart-complete');\n",
              "    }\n",
              "    (() => {\n",
              "      let quickchartButtonEl =\n",
              "        document.querySelector('#df-a8044c82-57ec-44d0-8ddd-425c9d00f404 button');\n",
              "      quickchartButtonEl.style.display =\n",
              "        google.colab.kernel.accessAllowed ? 'block' : 'none';\n",
              "    })();\n",
              "  </script>\n",
              "</div>\n",
              "    </div>\n",
              "  </div>\n"
            ]
          },
          "metadata": {},
          "execution_count": 21
        }
      ],
      "source": [
        "centro_dataframe"
      ]
    },
    {
      "cell_type": "markdown",
      "metadata": {
        "id": "0JzyKQgqoNee"
      },
      "source": [
        "### ."
      ]
    },
    {
      "cell_type": "code",
      "execution_count": 22,
      "metadata": {
        "id": "1whDx8W6oNee",
        "colab": {
          "base_uri": "https://localhost:8080/"
        },
        "outputId": "d259fee2-1a9a-4cdb-dfa9-96229d73bd1d"
      },
      "outputs": [
        {
          "output_type": "stream",
          "name": "stderr",
          "text": [
            "<ipython-input-22-f4cef7adaa4c>:2: FutureWarning: The frame.append method is deprecated and will be removed from pandas in a future version. Use pandas.concat instead.\n",
            "  experimento = experimento.append(centro_dataframe)\n"
          ]
        }
      ],
      "source": [
        "#ahora juntamos los 2 dataFrame\n",
        "experimento = experimento.append(centro_dataframe)"
      ]
    },
    {
      "cell_type": "code",
      "execution_count": 23,
      "metadata": {
        "id": "UrFziNISoNee",
        "colab": {
          "base_uri": "https://localhost:8080/",
          "height": 300
        },
        "outputId": "4d1275e7-9d84-4593-d55f-c213a2d93ba4"
      },
      "outputs": [
        {
          "output_type": "execute_result",
          "data": {
            "text/plain": [
              "   Harina  Leche  Cantidades\n",
              "0    -1.0   -1.0          19\n",
              "1     1.0   -1.0          37\n",
              "2    -1.0    1.0          24\n",
              "3     1.0    1.0          49\n",
              "4     0.0    0.0          29\n",
              "5     0.0    0.0          30\n",
              "6     0.0    0.0          29\n",
              "7     0.0    0.0          30"
            ],
            "text/html": [
              "\n",
              "  <div id=\"df-c9510bfa-c33b-472d-b093-793ce1bc2ac1\" class=\"colab-df-container\">\n",
              "    <div>\n",
              "<style scoped>\n",
              "    .dataframe tbody tr th:only-of-type {\n",
              "        vertical-align: middle;\n",
              "    }\n",
              "\n",
              "    .dataframe tbody tr th {\n",
              "        vertical-align: top;\n",
              "    }\n",
              "\n",
              "    .dataframe thead th {\n",
              "        text-align: right;\n",
              "    }\n",
              "</style>\n",
              "<table border=\"1\" class=\"dataframe\">\n",
              "  <thead>\n",
              "    <tr style=\"text-align: right;\">\n",
              "      <th></th>\n",
              "      <th>Harina</th>\n",
              "      <th>Leche</th>\n",
              "      <th>Cantidades</th>\n",
              "    </tr>\n",
              "  </thead>\n",
              "  <tbody>\n",
              "    <tr>\n",
              "      <th>0</th>\n",
              "      <td>-1.0</td>\n",
              "      <td>-1.0</td>\n",
              "      <td>19</td>\n",
              "    </tr>\n",
              "    <tr>\n",
              "      <th>1</th>\n",
              "      <td>1.0</td>\n",
              "      <td>-1.0</td>\n",
              "      <td>37</td>\n",
              "    </tr>\n",
              "    <tr>\n",
              "      <th>2</th>\n",
              "      <td>-1.0</td>\n",
              "      <td>1.0</td>\n",
              "      <td>24</td>\n",
              "    </tr>\n",
              "    <tr>\n",
              "      <th>3</th>\n",
              "      <td>1.0</td>\n",
              "      <td>1.0</td>\n",
              "      <td>49</td>\n",
              "    </tr>\n",
              "    <tr>\n",
              "      <th>4</th>\n",
              "      <td>0.0</td>\n",
              "      <td>0.0</td>\n",
              "      <td>29</td>\n",
              "    </tr>\n",
              "    <tr>\n",
              "      <th>5</th>\n",
              "      <td>0.0</td>\n",
              "      <td>0.0</td>\n",
              "      <td>30</td>\n",
              "    </tr>\n",
              "    <tr>\n",
              "      <th>6</th>\n",
              "      <td>0.0</td>\n",
              "      <td>0.0</td>\n",
              "      <td>29</td>\n",
              "    </tr>\n",
              "    <tr>\n",
              "      <th>7</th>\n",
              "      <td>0.0</td>\n",
              "      <td>0.0</td>\n",
              "      <td>30</td>\n",
              "    </tr>\n",
              "  </tbody>\n",
              "</table>\n",
              "</div>\n",
              "    <div class=\"colab-df-buttons\">\n",
              "\n",
              "  <div class=\"colab-df-container\">\n",
              "    <button class=\"colab-df-convert\" onclick=\"convertToInteractive('df-c9510bfa-c33b-472d-b093-793ce1bc2ac1')\"\n",
              "            title=\"Convert this dataframe to an interactive table.\"\n",
              "            style=\"display:none;\">\n",
              "\n",
              "  <svg xmlns=\"http://www.w3.org/2000/svg\" height=\"24px\" viewBox=\"0 -960 960 960\">\n",
              "    <path d=\"M120-120v-720h720v720H120Zm60-500h600v-160H180v160Zm220 220h160v-160H400v160Zm0 220h160v-160H400v160ZM180-400h160v-160H180v160Zm440 0h160v-160H620v160ZM180-180h160v-160H180v160Zm440 0h160v-160H620v160Z\"/>\n",
              "  </svg>\n",
              "    </button>\n",
              "\n",
              "  <style>\n",
              "    .colab-df-container {\n",
              "      display:flex;\n",
              "      gap: 12px;\n",
              "    }\n",
              "\n",
              "    .colab-df-convert {\n",
              "      background-color: #E8F0FE;\n",
              "      border: none;\n",
              "      border-radius: 50%;\n",
              "      cursor: pointer;\n",
              "      display: none;\n",
              "      fill: #1967D2;\n",
              "      height: 32px;\n",
              "      padding: 0 0 0 0;\n",
              "      width: 32px;\n",
              "    }\n",
              "\n",
              "    .colab-df-convert:hover {\n",
              "      background-color: #E2EBFA;\n",
              "      box-shadow: 0px 1px 2px rgba(60, 64, 67, 0.3), 0px 1px 3px 1px rgba(60, 64, 67, 0.15);\n",
              "      fill: #174EA6;\n",
              "    }\n",
              "\n",
              "    .colab-df-buttons div {\n",
              "      margin-bottom: 4px;\n",
              "    }\n",
              "\n",
              "    [theme=dark] .colab-df-convert {\n",
              "      background-color: #3B4455;\n",
              "      fill: #D2E3FC;\n",
              "    }\n",
              "\n",
              "    [theme=dark] .colab-df-convert:hover {\n",
              "      background-color: #434B5C;\n",
              "      box-shadow: 0px 1px 3px 1px rgba(0, 0, 0, 0.15);\n",
              "      filter: drop-shadow(0px 1px 2px rgba(0, 0, 0, 0.3));\n",
              "      fill: #FFFFFF;\n",
              "    }\n",
              "  </style>\n",
              "\n",
              "    <script>\n",
              "      const buttonEl =\n",
              "        document.querySelector('#df-c9510bfa-c33b-472d-b093-793ce1bc2ac1 button.colab-df-convert');\n",
              "      buttonEl.style.display =\n",
              "        google.colab.kernel.accessAllowed ? 'block' : 'none';\n",
              "\n",
              "      async function convertToInteractive(key) {\n",
              "        const element = document.querySelector('#df-c9510bfa-c33b-472d-b093-793ce1bc2ac1');\n",
              "        const dataTable =\n",
              "          await google.colab.kernel.invokeFunction('convertToInteractive',\n",
              "                                                    [key], {});\n",
              "        if (!dataTable) return;\n",
              "\n",
              "        const docLinkHtml = 'Like what you see? Visit the ' +\n",
              "          '<a target=\"_blank\" href=https://colab.research.google.com/notebooks/data_table.ipynb>data table notebook</a>'\n",
              "          + ' to learn more about interactive tables.';\n",
              "        element.innerHTML = '';\n",
              "        dataTable['output_type'] = 'display_data';\n",
              "        await google.colab.output.renderOutput(dataTable, element);\n",
              "        const docLink = document.createElement('div');\n",
              "        docLink.innerHTML = docLinkHtml;\n",
              "        element.appendChild(docLink);\n",
              "      }\n",
              "    </script>\n",
              "  </div>\n",
              "\n",
              "\n",
              "<div id=\"df-edf1087b-a5ab-4078-bc95-f29d34a547ef\">\n",
              "  <button class=\"colab-df-quickchart\" onclick=\"quickchart('df-edf1087b-a5ab-4078-bc95-f29d34a547ef')\"\n",
              "            title=\"Suggest charts.\"\n",
              "            style=\"display:none;\">\n",
              "\n",
              "<svg xmlns=\"http://www.w3.org/2000/svg\" height=\"24px\"viewBox=\"0 0 24 24\"\n",
              "     width=\"24px\">\n",
              "    <g>\n",
              "        <path d=\"M19 3H5c-1.1 0-2 .9-2 2v14c0 1.1.9 2 2 2h14c1.1 0 2-.9 2-2V5c0-1.1-.9-2-2-2zM9 17H7v-7h2v7zm4 0h-2V7h2v10zm4 0h-2v-4h2v4z\"/>\n",
              "    </g>\n",
              "</svg>\n",
              "  </button>\n",
              "\n",
              "<style>\n",
              "  .colab-df-quickchart {\n",
              "      --bg-color: #E8F0FE;\n",
              "      --fill-color: #1967D2;\n",
              "      --hover-bg-color: #E2EBFA;\n",
              "      --hover-fill-color: #174EA6;\n",
              "      --disabled-fill-color: #AAA;\n",
              "      --disabled-bg-color: #DDD;\n",
              "  }\n",
              "\n",
              "  [theme=dark] .colab-df-quickchart {\n",
              "      --bg-color: #3B4455;\n",
              "      --fill-color: #D2E3FC;\n",
              "      --hover-bg-color: #434B5C;\n",
              "      --hover-fill-color: #FFFFFF;\n",
              "      --disabled-bg-color: #3B4455;\n",
              "      --disabled-fill-color: #666;\n",
              "  }\n",
              "\n",
              "  .colab-df-quickchart {\n",
              "    background-color: var(--bg-color);\n",
              "    border: none;\n",
              "    border-radius: 50%;\n",
              "    cursor: pointer;\n",
              "    display: none;\n",
              "    fill: var(--fill-color);\n",
              "    height: 32px;\n",
              "    padding: 0;\n",
              "    width: 32px;\n",
              "  }\n",
              "\n",
              "  .colab-df-quickchart:hover {\n",
              "    background-color: var(--hover-bg-color);\n",
              "    box-shadow: 0 1px 2px rgba(60, 64, 67, 0.3), 0 1px 3px 1px rgba(60, 64, 67, 0.15);\n",
              "    fill: var(--button-hover-fill-color);\n",
              "  }\n",
              "\n",
              "  .colab-df-quickchart-complete:disabled,\n",
              "  .colab-df-quickchart-complete:disabled:hover {\n",
              "    background-color: var(--disabled-bg-color);\n",
              "    fill: var(--disabled-fill-color);\n",
              "    box-shadow: none;\n",
              "  }\n",
              "\n",
              "  .colab-df-spinner {\n",
              "    border: 2px solid var(--fill-color);\n",
              "    border-color: transparent;\n",
              "    border-bottom-color: var(--fill-color);\n",
              "    animation:\n",
              "      spin 1s steps(1) infinite;\n",
              "  }\n",
              "\n",
              "  @keyframes spin {\n",
              "    0% {\n",
              "      border-color: transparent;\n",
              "      border-bottom-color: var(--fill-color);\n",
              "      border-left-color: var(--fill-color);\n",
              "    }\n",
              "    20% {\n",
              "      border-color: transparent;\n",
              "      border-left-color: var(--fill-color);\n",
              "      border-top-color: var(--fill-color);\n",
              "    }\n",
              "    30% {\n",
              "      border-color: transparent;\n",
              "      border-left-color: var(--fill-color);\n",
              "      border-top-color: var(--fill-color);\n",
              "      border-right-color: var(--fill-color);\n",
              "    }\n",
              "    40% {\n",
              "      border-color: transparent;\n",
              "      border-right-color: var(--fill-color);\n",
              "      border-top-color: var(--fill-color);\n",
              "    }\n",
              "    60% {\n",
              "      border-color: transparent;\n",
              "      border-right-color: var(--fill-color);\n",
              "    }\n",
              "    80% {\n",
              "      border-color: transparent;\n",
              "      border-right-color: var(--fill-color);\n",
              "      border-bottom-color: var(--fill-color);\n",
              "    }\n",
              "    90% {\n",
              "      border-color: transparent;\n",
              "      border-bottom-color: var(--fill-color);\n",
              "    }\n",
              "  }\n",
              "</style>\n",
              "\n",
              "  <script>\n",
              "    async function quickchart(key) {\n",
              "      const quickchartButtonEl =\n",
              "        document.querySelector('#' + key + ' button');\n",
              "      quickchartButtonEl.disabled = true;  // To prevent multiple clicks.\n",
              "      quickchartButtonEl.classList.add('colab-df-spinner');\n",
              "      try {\n",
              "        const charts = await google.colab.kernel.invokeFunction(\n",
              "            'suggestCharts', [key], {});\n",
              "      } catch (error) {\n",
              "        console.error('Error during call to suggestCharts:', error);\n",
              "      }\n",
              "      quickchartButtonEl.classList.remove('colab-df-spinner');\n",
              "      quickchartButtonEl.classList.add('colab-df-quickchart-complete');\n",
              "    }\n",
              "    (() => {\n",
              "      let quickchartButtonEl =\n",
              "        document.querySelector('#df-edf1087b-a5ab-4078-bc95-f29d34a547ef button');\n",
              "      quickchartButtonEl.style.display =\n",
              "        google.colab.kernel.accessAllowed ? 'block' : 'none';\n",
              "    })();\n",
              "  </script>\n",
              "</div>\n",
              "    </div>\n",
              "  </div>\n"
            ]
          },
          "metadata": {},
          "execution_count": 23
        }
      ],
      "source": [
        "experimento"
      ]
    },
    {
      "cell_type": "markdown",
      "metadata": {
        "id": "-uWxcWM3oNee"
      },
      "source": [
        "# <font color = 'purple'>  Análisis de significancia estadística   </font>\n",
        "\n",
        "\n",
        "<p style='margin: 30px 30px;'>\n",
        "    \n",
        "<hr style = 'border: 1px solid purple;'>"
      ]
    },
    {
      "cell_type": "code",
      "execution_count": 24,
      "metadata": {
        "id": "m_zvbsxgoNee"
      },
      "outputs": [],
      "source": [
        "modelo = smf.ols(data = experimento, formula='Cantidades ~ Harina + Leche + Harina:Leche')"
      ]
    },
    {
      "cell_type": "code",
      "execution_count": 25,
      "metadata": {
        "id": "bOhMq60RoNee"
      },
      "outputs": [],
      "source": [
        "modelo_ajustado = modelo.fit()"
      ]
    },
    {
      "cell_type": "code",
      "execution_count": 26,
      "metadata": {
        "id": "HaFaew7_oNee",
        "colab": {
          "base_uri": "https://localhost:8080/"
        },
        "outputId": "a3767bd1-f530-4ea5-fa2f-b12b3bbbdbbc"
      },
      "outputs": [
        {
          "output_type": "stream",
          "name": "stdout",
          "text": [
            "                            OLS Regression Results                            \n",
            "==============================================================================\n",
            "Dep. Variable:             Cantidades   R-squared:                       0.971\n",
            "Model:                            OLS   Adj. R-squared:                  0.950\n",
            "Method:                 Least Squares   F-statistic:                     45.21\n",
            "Date:                Sun, 29 Oct 2023   Prob (F-statistic):            0.00152\n",
            "Time:                        20:35:19   Log-Likelihood:                -14.155\n",
            "No. Observations:                   8   AIC:                             36.31\n",
            "Df Residuals:                       4   BIC:                             36.63\n",
            "Df Model:                           3                                         \n",
            "Covariance Type:            nonrobust                                         \n",
            "================================================================================\n",
            "                   coef    std err          t      P>|t|      [0.025      0.975]\n",
            "--------------------------------------------------------------------------------\n",
            "Intercept       30.8750      0.710     43.494      0.000      28.904      32.846\n",
            "Harina          10.7500      1.004     10.708      0.000       7.963      13.537\n",
            "Leche            4.2500      1.004      4.233      0.013       1.463       7.037\n",
            "Harina:Leche     1.7500      1.004      1.743      0.156      -1.037       4.537\n",
            "==============================================================================\n",
            "Omnibus:                        4.655   Durbin-Watson:                   0.841\n",
            "Prob(Omnibus):                  0.098   Jarque-Bera (JB):                1.080\n",
            "Skew:                          -0.180   Prob(JB):                        0.583\n",
            "Kurtosis:                       1.237   Cond. No.                         1.41\n",
            "==============================================================================\n",
            "\n",
            "Notes:\n",
            "[1] Standard Errors assume that the covariance matrix of the errors is correctly specified.\n"
          ]
        },
        {
          "output_type": "stream",
          "name": "stderr",
          "text": [
            "/usr/local/lib/python3.10/dist-packages/scipy/stats/_stats_py.py:1806: UserWarning: kurtosistest only valid for n>=20 ... continuing anyway, n=8\n",
            "  warnings.warn(\"kurtosistest only valid for n>=20 ... continuing \"\n"
          ]
        }
      ],
      "source": [
        "print(modelo_ajustado.summary())"
      ]
    },
    {
      "cell_type": "markdown",
      "source": [
        "como podemos ver, ahora hay varios parametros que antes aparecian con nan, eso debido a que anteriormente teniamos un grado de libertar igual a la cantidad de parametros (4) lo que nos daba un residuo = 0, y con un residuo = 0 no podemoshacer el analissi estadisticos, por tal motivo agregamos mas experimentos dandonos un residio de 4 (df residual).\n",
        "\n",
        "Para iniciar el analisis veremos al parametro P>t = que significa, es la probabilidad que la hipotesis es distinta de 0 (significante) o igual a 0 (no significante)\n",
        "\n",
        "t, es la cantidqad de diferencia de errores, es decir, mientras mas grande el valor de t, mayor es la evidencia en contra de la hipotesis nula (la hipotesis nula es igual a 0 ), es decir mientras mayor sea t, mas significante es la variable, por lo que mientras mayor, mejor para que sea una variable significante\n",
        "\n",
        "## Evaluacion de significacion\n",
        "No significante = p>t > 5% (alfa)\n",
        "\n",
        "Significante = p>t < 5%(alfa)\n",
        "\n",
        "Notar que el valor de alfa 5% es un valor de conveniencia (estandar) para el analisis.\n",
        "\n",
        "Segun los resultados y reemplazando los valores de arriba, tenemos que el interceptor, harina y leche son significantes porque su probabilidad es menor al 5%, y la interaccion de la harina con la leche sobrepasa el 5%, por lo que no es significante y se podria excluirla de la ecuacion y no va afectar el resultado."
      ],
      "metadata": {
        "id": "sSS4pnT9YGDt"
      }
    },
    {
      "cell_type": "markdown",
      "metadata": {
        "id": "6ALO1thMoNef"
      },
      "source": [
        "\n",
        "# <font color = 'purple'> Prueba de significación estadística usando <b>t<b>    </font>\n",
        "\n",
        "\n",
        "<p style='margin: 30px 30px;'>\n",
        "    \n",
        "<hr style = 'border: 1px solid purple;'>\n",
        "\n",
        "\n",
        "\n"
      ]
    },
    {
      "cell_type": "code",
      "execution_count": 27,
      "metadata": {
        "id": "dhxxq0D0oNef"
      },
      "outputs": [],
      "source": [
        "# t calculado\n",
        "t_valores = modelo_ajustado.tvalues"
      ]
    },
    {
      "cell_type": "code",
      "execution_count": 28,
      "metadata": {
        "id": "QtXnuYCMoNef",
        "colab": {
          "base_uri": "https://localhost:8080/"
        },
        "outputId": "c3144691-4ba6-4c8d-def6-474e9ba8b4b1"
      },
      "outputs": [
        {
          "output_type": "execute_result",
          "data": {
            "text/plain": [
              "Intercept       43.494275\n",
              "Harina          10.708252\n",
              "Leche            4.233495\n",
              "Harina:Leche     1.743204\n",
              "dtype: float64"
            ]
          },
          "metadata": {},
          "execution_count": 28
        }
      ],
      "source": [
        "t_valores"
      ]
    },
    {
      "cell_type": "code",
      "execution_count": 29,
      "metadata": {
        "id": "cGQJz2smoNef"
      },
      "outputs": [],
      "source": [
        "#conviertiendo los indices del resultado de arriba, en listas\n",
        "nombre = t_valores.index.tolist()"
      ]
    },
    {
      "cell_type": "code",
      "execution_count": 30,
      "metadata": {
        "id": "Fm-Hzl5GoNef",
        "colab": {
          "base_uri": "https://localhost:8080/"
        },
        "outputId": "0470122c-ed58-4e81-be12-c307768fcc41"
      },
      "outputs": [
        {
          "output_type": "execute_result",
          "data": {
            "text/plain": [
              "['Intercept', 'Harina', 'Leche', 'Harina:Leche']"
            ]
          },
          "metadata": {},
          "execution_count": 30
        }
      ],
      "source": [
        "nombre"
      ]
    },
    {
      "cell_type": "markdown",
      "metadata": {
        "id": "yqZVOCqJoNef"
      },
      "source": [
        "### ."
      ]
    },
    {
      "cell_type": "code",
      "execution_count": 31,
      "metadata": {
        "id": "efIaxe8aoNef"
      },
      "outputs": [],
      "source": [
        "# calculatno t tabulado\n",
        "from scipy import stats"
      ]
    },
    {
      "cell_type": "markdown",
      "metadata": {
        "id": "AMS_nRnZoNef"
      },
      "source": [
        "### .\n"
      ]
    },
    {
      "cell_type": "code",
      "execution_count": 32,
      "metadata": {
        "id": "g6CInlr1oNef"
      },
      "outputs": [],
      "source": [
        "distribucion = stats.t(df = 4)  # df = 4 son los grados residuales que calculamos mas arriba, Df Residuals"
      ]
    },
    {
      "cell_type": "code",
      "execution_count": 33,
      "metadata": {
        "id": "nRE58gT3oNef",
        "colab": {
          "base_uri": "https://localhost:8080/"
        },
        "outputId": "60f46882-e9ae-4691-86cb-03d0fd3995d8"
      },
      "outputs": [
        {
          "output_type": "execute_result",
          "data": {
            "text/plain": [
              "2.7764451051977987"
            ]
          },
          "metadata": {},
          "execution_count": 33
        }
      ],
      "source": [
        "distribucion.ppf(q = 1 - 0.025) # q es la diferencia del total (100% o 1) de la distribucion menos el valor superior de t tabulado, t tabulado es la proporcion del 5% de alfa, que definimos anterioremnte, por lo que la mitad del 5% es 2.5% que va en ambos extremos del grafico, y aqui consideramos solo un 2.5%\n"
      ]
    },
    {
      "cell_type": "code",
      "execution_count": 34,
      "metadata": {
        "id": "_AMwJpwZoNeg"
      },
      "outputs": [],
      "source": [
        "limite = [distribucion.ppf(q = 1 - 0.025)]*len(nombre)"
      ]
    },
    {
      "cell_type": "code",
      "execution_count": 35,
      "metadata": {
        "id": "-Mnpmz5WoNeg",
        "colab": {
          "base_uri": "https://localhost:8080/"
        },
        "outputId": "31c40fa7-cd72-4aa3-8770-093e105d68ca"
      },
      "outputs": [
        {
          "output_type": "execute_result",
          "data": {
            "text/plain": [
              "[2.7764451051977987,\n",
              " 2.7764451051977987,\n",
              " 2.7764451051977987,\n",
              " 2.7764451051977987]"
            ]
          },
          "metadata": {},
          "execution_count": 35
        }
      ],
      "source": [
        "limite"
      ]
    },
    {
      "cell_type": "markdown",
      "metadata": {
        "id": "7s8hToKkoNeg"
      },
      "source": [
        "### Plotando el gráfico"
      ]
    },
    {
      "cell_type": "code",
      "execution_count": 36,
      "metadata": {
        "id": "7FBthL0aoNeg",
        "colab": {
          "base_uri": "https://localhost:8080/",
          "height": 537
        },
        "outputId": "31f72896-89d8-4d65-c7d9-b3a57b214a6c"
      },
      "outputs": [
        {
          "output_type": "execute_result",
          "data": {
            "text/plain": [
              "[<matplotlib.lines.Line2D at 0x787bdf9774c0>]"
            ]
          },
          "metadata": {},
          "execution_count": 36
        },
        {
          "output_type": "display_data",
          "data": {
            "text/plain": [
              "<Figure size 1500x600 with 1 Axes>"
            ],
            "image/png": "[encoded data removed]"
          },
          "metadata": {}
        }
      ],
      "source": [
        "# Graficando los t calculados (t_valores), para hacer posteriormente el diagrama de pareto\n",
        "pareto = sns.barplot(x=t_valores, y = nombre)\n",
        "pareto.figure.set_size_inches(15,6)\n",
        "pareto.tick_params(labelsize=20)\n",
        "pareto.set_xlabel('t-valores', fontsize=20)\n",
        "pareto.plot(limite, nombre, 'r')"
      ]
    },
    {
      "cell_type": "markdown",
      "source": [
        "t calculado, son nuestras 4 barras\n",
        "\n",
        "t tabulado, es la linea vertical verde\n",
        "\n",
        "si t calculado > a t tabulado = significante\n",
        "si t calculado < a t tabulado = no significante"
      ],
      "metadata": {
        "id": "tRgd0f_AYcfo"
      }
    },
    {
      "cell_type": "markdown",
      "metadata": {
        "id": "FVJtdCNAoNeg"
      },
      "source": [
        "# <font color = 'purple'> Proponiendo un nuevo modelo   </font>\n",
        "\n",
        "\n",
        "<p style='margin: 30px 30px;'>\n",
        "    \n",
        "<hr style = 'border: 1px solid purple;'>\n"
      ]
    },
    {
      "cell_type": "code",
      "execution_count": 37,
      "metadata": {
        "id": "RzE1VPIUoNeg"
      },
      "outputs": [],
      "source": [
        "modelo_2 = smf.ols(data = experimento, formula='Cantidades ~ Harina + Leche')"
      ]
    },
    {
      "cell_type": "code",
      "execution_count": 38,
      "metadata": {
        "id": "LZk3J0tCoNeg"
      },
      "outputs": [],
      "source": [
        "modelo_ajustado_2 = modelo_2.fit()"
      ]
    },
    {
      "cell_type": "code",
      "execution_count": 39,
      "metadata": {
        "id": "4BBhZfcaoNeg",
        "colab": {
          "base_uri": "https://localhost:8080/"
        },
        "outputId": "f3d7d85b-a1ce-41dd-b0c6-fa66d1dcc91d"
      },
      "outputs": [
        {
          "output_type": "stream",
          "name": "stdout",
          "text": [
            "                            OLS Regression Results                            \n",
            "==============================================================================\n",
            "Dep. Variable:             Cantidades   R-squared:                       0.950\n",
            "Model:                            OLS   Adj. R-squared:                  0.929\n",
            "Method:                 Least Squares   F-statistic:                     47.09\n",
            "Date:                Sun, 29 Oct 2023   Prob (F-statistic):           0.000571\n",
            "Time:                        20:35:19   Log-Likelihood:                -16.416\n",
            "No. Observations:                   8   AIC:                             38.83\n",
            "Df Residuals:                       5   BIC:                             39.07\n",
            "Df Model:                           2                                         \n",
            "Covariance Type:            nonrobust                                         \n",
            "==============================================================================\n",
            "                 coef    std err          t      P>|t|      [0.025      0.975]\n",
            "------------------------------------------------------------------------------\n",
            "Intercept     30.8750      0.842     36.658      0.000      28.710      33.040\n",
            "Harina        10.7500      1.191      9.025      0.000       7.688      13.812\n",
            "Leche          4.2500      1.191      3.568      0.016       1.188       7.312\n",
            "==============================================================================\n",
            "Omnibus:                        2.106   Durbin-Watson:                   1.850\n",
            "Prob(Omnibus):                  0.349   Jarque-Bera (JB):                1.245\n",
            "Skew:                           0.868   Prob(JB):                        0.537\n",
            "Kurtosis:                       2.153   Cond. No.                         1.41\n",
            "==============================================================================\n",
            "\n",
            "Notes:\n",
            "[1] Standard Errors assume that the covariance matrix of the errors is correctly specified.\n"
          ]
        },
        {
          "output_type": "stream",
          "name": "stderr",
          "text": [
            "/usr/local/lib/python3.10/dist-packages/scipy/stats/_stats_py.py:1806: UserWarning: kurtosistest only valid for n>=20 ... continuing anyway, n=8\n",
            "  warnings.warn(\"kurtosistest only valid for n>=20 ... continuing \"\n"
          ]
        }
      ],
      "source": [
        "print(modelo_ajustado_2.summary())"
      ]
    },
    {
      "cell_type": "markdown",
      "metadata": {
        "id": "PXysjHS1oNeg"
      },
      "source": [
        "<hr>"
      ]
    },
    {
      "cell_type": "markdown",
      "metadata": {
        "id": "kQZn1PmooNeg"
      },
      "source": [
        "# <font color = 'purple'> Diagrama de Pareto estandarizado del nuevo modelo    </font>\n",
        "\n",
        "\n",
        "<p style='margin: 30px 30px;'>\n",
        "    \n",
        "<hr style = 'border: 1px solid purple;'>\n"
      ]
    },
    {
      "cell_type": "code",
      "execution_count": 40,
      "metadata": {
        "id": "7IYScpeGoNeh"
      },
      "outputs": [],
      "source": [
        "#Nuevo t calculado\n",
        "t_valores = modelo_ajustado_2.tvalues"
      ]
    },
    {
      "cell_type": "code",
      "execution_count": 41,
      "metadata": {
        "id": "h7PtJfFZoNeh",
        "colab": {
          "base_uri": "https://localhost:8080/"
        },
        "outputId": "7cdbba19-373e-4163-f60a-d572c44d19b5"
      },
      "outputs": [
        {
          "output_type": "execute_result",
          "data": {
            "text/plain": [
              "Intercept    36.658022\n",
              "Harina        9.025173\n",
              "Leche         3.568092\n",
              "dtype: float64"
            ]
          },
          "metadata": {},
          "execution_count": 41
        }
      ],
      "source": [
        "t_valores"
      ]
    },
    {
      "cell_type": "code",
      "execution_count": 42,
      "metadata": {
        "id": "dOtGVDotoNeh"
      },
      "outputs": [],
      "source": [
        "nombre = t_valores.index.tolist()"
      ]
    },
    {
      "cell_type": "code",
      "execution_count": 43,
      "metadata": {
        "id": "J6pmYBR4oNeh",
        "colab": {
          "base_uri": "https://localhost:8080/"
        },
        "outputId": "b0607d05-ed59-4c21-da15-a8e9485b3a5c"
      },
      "outputs": [
        {
          "output_type": "execute_result",
          "data": {
            "text/plain": [
              "['Intercept', 'Harina', 'Leche']"
            ]
          },
          "metadata": {},
          "execution_count": 43
        }
      ],
      "source": [
        "nombre"
      ]
    },
    {
      "cell_type": "markdown",
      "metadata": {
        "id": "C6bzwMcXoNeh"
      },
      "source": [
        "### ."
      ]
    },
    {
      "cell_type": "code",
      "execution_count": 44,
      "metadata": {
        "id": "JfoTQqL_oNeh"
      },
      "outputs": [],
      "source": [
        "distribucion = stats.t(df = 5)"
      ]
    },
    {
      "cell_type": "code",
      "execution_count": 45,
      "metadata": {
        "id": "xkS6GTgXoNeh",
        "colab": {
          "base_uri": "https://localhost:8080/"
        },
        "outputId": "f0a7442a-89fa-43da-a0c4-60a9c00d2d43"
      },
      "outputs": [
        {
          "output_type": "execute_result",
          "data": {
            "text/plain": [
              "2.5705818366147395"
            ]
          },
          "metadata": {},
          "execution_count": 45
        }
      ],
      "source": [
        "distribucion.ppf(q = 1 - 0.025)"
      ]
    },
    {
      "cell_type": "code",
      "execution_count": 46,
      "metadata": {
        "id": "SSQj58-XoNeh",
        "colab": {
          "base_uri": "https://localhost:8080/"
        },
        "outputId": "0315a1d4-7945-4dce-d089-0ddd170c3589"
      },
      "outputs": [
        {
          "output_type": "execute_result",
          "data": {
            "text/plain": [
              "[2.5705818366147395, 2.5705818366147395, 2.5705818366147395]"
            ]
          },
          "metadata": {},
          "execution_count": 46
        }
      ],
      "source": [
        "limite = [distribucion.ppf(q = 1 - 0.025)]*len(nombre)\n",
        "limite"
      ]
    },
    {
      "cell_type": "markdown",
      "metadata": {
        "id": "bJLL3__roNeh"
      },
      "source": [
        "### Plotando el gráfico"
      ]
    },
    {
      "cell_type": "code",
      "execution_count": 47,
      "metadata": {
        "id": "eXPVai6joNeh",
        "colab": {
          "base_uri": "https://localhost:8080/",
          "height": 559
        },
        "outputId": "a80c973e-929e-4ef7-9612-eeb5e5199371"
      },
      "outputs": [
        {
          "output_type": "execute_result",
          "data": {
            "text/plain": [
              "[<matplotlib.lines.Line2D at 0x787bdf7a06a0>]"
            ]
          },
          "metadata": {},
          "execution_count": 47
        },
        {
          "output_type": "display_data",
          "data": {
            "text/plain": [
              "<Figure size 1500x600 with 1 Axes>"
            ],
            "image/png": "[encoded data removed]"
          },
          "metadata": {}
        }
      ],
      "source": [
        "pareto = sns.barplot(x=t_valores, y = nombre)\n",
        "pareto.figure.set_size_inches(15,6)\n",
        "pareto.tick_params(labelsize=20)\n",
        "pareto.set_xlabel('t-valores', fontsize=20)\n",
        "pareto.plot(limite, nombre, 'green')"
      ]
    },
    {
      "cell_type": "markdown",
      "metadata": {
        "id": "jI_urR4loNeh"
      },
      "source": [
        "<font color='red' style='font-size: 30px;'> Predichos por observados  </font>\n",
        "<hr style='border: 2px solid red;'>"
      ]
    },
    {
      "cell_type": "code",
      "execution_count": 48,
      "metadata": {
        "id": "NbimX1-coNeh"
      },
      "outputs": [],
      "source": [
        "observados = experimento['Cantidades']"
      ]
    },
    {
      "cell_type": "code",
      "execution_count": 49,
      "metadata": {
        "id": "JifkOF0GoNeh",
        "colab": {
          "base_uri": "https://localhost:8080/"
        },
        "outputId": "a388b32c-1ec8-403b-bd71-ca3972765c23"
      },
      "outputs": [
        {
          "output_type": "execute_result",
          "data": {
            "text/plain": [
              "0    19\n",
              "1    37\n",
              "2    24\n",
              "3    49\n",
              "4    29\n",
              "5    30\n",
              "6    29\n",
              "7    30\n",
              "Name: Cantidades, dtype: int64"
            ]
          },
          "metadata": {},
          "execution_count": 49
        }
      ],
      "source": [
        "observados"
      ]
    },
    {
      "cell_type": "markdown",
      "metadata": {
        "id": "al-FU1rvoNei"
      },
      "source": [
        "### ."
      ]
    },
    {
      "cell_type": "code",
      "execution_count": 50,
      "metadata": {
        "id": "hRlzgsRZoNei"
      },
      "outputs": [],
      "source": [
        "predichos = modelo_ajustado_2.predict()"
      ]
    },
    {
      "cell_type": "code",
      "execution_count": 51,
      "metadata": {
        "id": "aVFmKff-oNei",
        "colab": {
          "base_uri": "https://localhost:8080/"
        },
        "outputId": "06fc139b-00a1-4a99-a83a-fc467d76427f"
      },
      "outputs": [
        {
          "output_type": "execute_result",
          "data": {
            "text/plain": [
              "array([15.875, 37.375, 24.375, 45.875, 30.875, 30.875, 30.875, 30.875])"
            ]
          },
          "metadata": {},
          "execution_count": 51
        }
      ],
      "source": [
        "predichos"
      ]
    },
    {
      "cell_type": "markdown",
      "metadata": {
        "id": "EFLRZ69noNei"
      },
      "source": [
        "### ."
      ]
    },
    {
      "cell_type": "code",
      "execution_count": 52,
      "metadata": {
        "id": "9IvMOweEoNei"
      },
      "outputs": [],
      "source": [
        "import matplotlib.pyplot as plt"
      ]
    },
    {
      "cell_type": "code",
      "execution_count": 53,
      "metadata": {
        "id": "ykYwfe-IoNei",
        "colab": {
          "base_uri": "https://localhost:8080/",
          "height": 489
        },
        "outputId": "c2e5d6ea-1571-41c4-d2db-e9f2d94f1584"
      },
      "outputs": [
        {
          "output_type": "execute_result",
          "data": {
            "text/plain": [
              "<matplotlib.collections.PathCollection at 0x787bdf63fe20>"
            ]
          },
          "metadata": {},
          "execution_count": 53
        },
        {
          "output_type": "display_data",
          "data": {
            "text/plain": [
              "<Figure size 1000x500 with 1 Axes>"
            ],
            "image/png": "[encoded data removed]"
          },
          "metadata": {}
        }
      ],
      "source": [
        "plt.figure(figsize = (10,5))\n",
        "plt.xlabel('Predichos', fontsize=16)\n",
        "plt.ylabel('Observados', fontsize=16)\n",
        "\n",
        "#línea de guía\n",
        "x = np.linspace(start=15, stop=50, num=10) #la recta va desde los intervalos 15 al 50, para asemejar a las cantidades que fueron hechas (19 hasta 30), 10 es la cantidad de puntos\n",
        "y = np.linspace(start=15, stop=50, num=10)\n",
        "plt.plot(x,y,'r')\n",
        "\n",
        "#comparación\n",
        "plt.scatter(predichos, observados)"
      ]
    },
    {
      "cell_type": "markdown",
      "source": [
        "LA recta verde indica el momento en que los cupcake observados (que se realizaron en la realidad) y los predichos (lo que calculamos con el modelo) son iguales.\n",
        "\n",
        "Los puntos estan muy cerca de la recta, es decir, esta muy cerca al mundo real, significa que el modelo esta funcionando bien, esta siendo validado, por lo que podemos usarlo para genera valores con datos que no hemos obtenido para simular."
      ],
      "metadata": {
        "id": "YBVMlkKdY6MP"
      }
    },
    {
      "cell_type": "markdown",
      "metadata": {
        "id": "bWqUoIT7oNei"
      },
      "source": [
        "<hr>"
      ]
    },
    {
      "cell_type": "code",
      "execution_count": 54,
      "metadata": {
        "id": "6wQHveJioNei",
        "colab": {
          "base_uri": "https://localhost:8080/"
        },
        "outputId": "9c85f9e0-d3c3-498f-f06a-2677efa4e362"
      },
      "outputs": [
        {
          "output_type": "stream",
          "name": "stdout",
          "text": [
            "                            OLS Regression Results                            \n",
            "==============================================================================\n",
            "Dep. Variable:             Cantidades   R-squared:                       0.950\n",
            "Model:                            OLS   Adj. R-squared:                  0.929\n",
            "Method:                 Least Squares   F-statistic:                     47.09\n",
            "Date:                Sun, 29 Oct 2023   Prob (F-statistic):           0.000571\n",
            "Time:                        20:35:21   Log-Likelihood:                -16.416\n",
            "No. Observations:                   8   AIC:                             38.83\n",
            "Df Residuals:                       5   BIC:                             39.07\n",
            "Df Model:                           2                                         \n",
            "Covariance Type:            nonrobust                                         \n",
            "==============================================================================\n",
            "                 coef    std err          t      P>|t|      [0.025      0.975]\n",
            "------------------------------------------------------------------------------\n",
            "Intercept     30.8750      0.842     36.658      0.000      28.710      33.040\n",
            "Harina        10.7500      1.191      9.025      0.000       7.688      13.812\n",
            "Leche          4.2500      1.191      3.568      0.016       1.188       7.312\n",
            "==============================================================================\n",
            "Omnibus:                        2.106   Durbin-Watson:                   1.850\n",
            "Prob(Omnibus):                  0.349   Jarque-Bera (JB):                1.245\n",
            "Skew:                           0.868   Prob(JB):                        0.537\n",
            "Kurtosis:                       2.153   Cond. No.                         1.41\n",
            "==============================================================================\n",
            "\n",
            "Notes:\n",
            "[1] Standard Errors assume that the covariance matrix of the errors is correctly specified.\n"
          ]
        },
        {
          "output_type": "stream",
          "name": "stderr",
          "text": [
            "/usr/local/lib/python3.10/dist-packages/scipy/stats/_stats_py.py:1806: UserWarning: kurtosistest only valid for n>=20 ... continuing anyway, n=8\n",
            "  warnings.warn(\"kurtosistest only valid for n>=20 ... continuing \"\n"
          ]
        }
      ],
      "source": [
        "print(modelo_ajustado_2.summary())"
      ]
    },
    {
      "cell_type": "markdown",
      "source": [
        "R-squared indica que tan bueno o ajustado esta el modelo, mientras mas cercano a 1 mejor, en este caso tenemos 0.95, por lo que el modelo se ajusta muy bien a los datos que estamos observando en nuestro experimento"
      ],
      "metadata": {
        "id": "StJmbfzkY99s"
      }
    },
    {
      "cell_type": "markdown",
      "metadata": {
        "id": "I_8MExa4oNei"
      },
      "source": [
        "### ."
      ]
    },
    {
      "cell_type": "markdown",
      "metadata": {
        "id": "pDugfwq0oNei"
      },
      "source": [
        "# <font color = 'purple'> Explorando el modelo   </font>\n",
        "\n",
        "\n",
        "<p style='margin: 30px 30px;'>\n",
        "    \n",
        "<hr style = 'border: 1px solid purple;'>"
      ]
    },
    {
      "cell_type": "code",
      "execution_count": 55,
      "metadata": {
        "id": "RQrQ4XzQoNei"
      },
      "outputs": [],
      "source": [
        "parametros = modelo_ajustado_2.params"
      ]
    },
    {
      "cell_type": "code",
      "execution_count": 56,
      "metadata": {
        "id": "ovOHLoKpoNei",
        "colab": {
          "base_uri": "https://localhost:8080/"
        },
        "outputId": "7a84bfb1-5184-4583-89b7-2b0f57dd6a7d"
      },
      "outputs": [
        {
          "output_type": "execute_result",
          "data": {
            "text/plain": [
              "Intercept    30.875\n",
              "Harina       10.750\n",
              "Leche         4.250\n",
              "dtype: float64"
            ]
          },
          "metadata": {},
          "execution_count": 56
        }
      ],
      "source": [
        "parametros"
      ]
    },
    {
      "cell_type": "markdown",
      "metadata": {
        "id": "mgQr8KbioNei"
      },
      "source": [
        "### ."
      ]
    },
    {
      "cell_type": "markdown",
      "metadata": {
        "id": "-y1UhPuQoNei"
      },
      "source": [
        "### Definiendo la función"
      ]
    },
    {
      "cell_type": "code",
      "execution_count": 57,
      "metadata": {
        "id": "NuVT2n0aoNej"
      },
      "outputs": [],
      "source": [
        "def modelo_receta(x_h, x_l):\n",
        "  #limite  valores entre -1 y 1\n",
        "  limite_normalizado = [-1,+1]\n",
        "  limite_harina = [0.5, 1.5]\n",
        "  limite_leche = [0.2, 0.7]\n",
        "\n",
        "  #Convertir los numeros que va ingresar el usuario (valores limite da variables harina y leche) a valores normalizados (limite normalizado)\n",
        "  x_h_convertido = np.interp(x_h, limite_harina, limite_normalizado)\n",
        "  x_l_convertido = np.interp(x_l, limite_leche, limite_normalizado)\n",
        "\n",
        "  cantidades = parametros['Intercept'] + parametros['Harina']*x_h_convertido + parametros['Leche']*x_l_convertido #esta es la ecuacion realizada anteriormente, donde *x_l_convertido es nuestro beta correspondien a la cantidad en gr o kg de vada variable\n",
        "  return round(cantidades)"
      ]
    },
    {
      "cell_type": "code",
      "execution_count": 58,
      "metadata": {
        "id": "kBqepZoVoNej",
        "colab": {
          "base_uri": "https://localhost:8080/"
        },
        "outputId": "3bcab7af-f9c1-4774-e7c3-c1910eb914b9"
      },
      "outputs": [
        {
          "output_type": "execute_result",
          "data": {
            "text/plain": [
              "32"
            ]
          },
          "metadata": {},
          "execution_count": 58
        }
      ],
      "source": [
        "modelo_receta(1.0, 0.5)"
      ]
    },
    {
      "cell_type": "markdown",
      "metadata": {
        "id": "3dDTo0pEoNej"
      },
      "source": [
        "# <font color = 'purple'> Mapa de colores   </font>\n",
        "\n",
        "\n",
        "<p style='margin: 30px 30px;'>\n",
        "    \n",
        "<hr style = 'border: 1px solid purple;'>"
      ]
    },
    {
      "cell_type": "code",
      "execution_count": 59,
      "metadata": {
        "id": "eGyJpxLioNej",
        "colab": {
          "base_uri": "https://localhost:8080/"
        },
        "outputId": "61aa10a5-5ee3-4315-9102-df11c3b1340f"
      },
      "outputs": [
        {
          "output_type": "execute_result",
          "data": {
            "text/plain": [
              "array([0.5       , 0.61111111, 0.72222222, 0.83333333, 0.94444444,\n",
              "       1.05555556, 1.16666667, 1.27777778, 1.38888889, 1.5       ])"
            ]
          },
          "metadata": {},
          "execution_count": 59
        }
      ],
      "source": [
        "x_harina = np.linspace(start=0.5, stop=1.5, num=10)\n",
        "x_harina"
      ]
    },
    {
      "cell_type": "code",
      "execution_count": 60,
      "metadata": {
        "id": "yCaHRUzxoNej",
        "colab": {
          "base_uri": "https://localhost:8080/"
        },
        "outputId": "8a18874e-9dab-4d44-e588-08d726fd1e3d"
      },
      "outputs": [
        {
          "output_type": "execute_result",
          "data": {
            "text/plain": [
              "array([0.2       , 0.25555556, 0.31111111, 0.36666667, 0.42222222,\n",
              "       0.47777778, 0.53333333, 0.58888889, 0.64444444, 0.7       ])"
            ]
          },
          "metadata": {},
          "execution_count": 60
        }
      ],
      "source": [
        "x_leche = np.linspace(start=0.2, stop=0.7, num=10)\n",
        "x_leche"
      ]
    },
    {
      "cell_type": "markdown",
      "metadata": {
        "id": "fFo83ya9oNej"
      },
      "source": [
        "### ."
      ]
    },
    {
      "cell_type": "code",
      "execution_count": 61,
      "metadata": {
        "id": "pjgupjWuoNej"
      },
      "outputs": [],
      "source": [
        "puntos = []\n",
        "for cont1 in x_harina:\n",
        "  temp=[]\n",
        "  for cont2 in x_leche:\n",
        "    temp.append(modelo_receta(cont1,cont2))\n",
        "  puntos.append(temp)"
      ]
    },
    {
      "cell_type": "code",
      "execution_count": 62,
      "metadata": {
        "id": "O0n5Y-XIoNej",
        "colab": {
          "base_uri": "https://localhost:8080/"
        },
        "outputId": "df35e6c9-3192-41a2-871d-2b6d799d8f62"
      },
      "outputs": [
        {
          "output_type": "execute_result",
          "data": {
            "text/plain": [
              "[[16, 17, 18, 19, 20, 21, 22, 22, 23, 24],\n",
              " [18, 19, 20, 21, 22, 23, 24, 25, 26, 27],\n",
              " [21, 22, 23, 23, 24, 25, 26, 27, 28, 29],\n",
              " [23, 24, 25, 26, 27, 28, 29, 30, 31, 32],\n",
              " [25, 26, 27, 28, 29, 30, 31, 32, 33, 34],\n",
              " [28, 29, 30, 31, 32, 33, 33, 34, 35, 36],\n",
              " [30, 31, 32, 33, 34, 35, 36, 37, 38, 39],\n",
              " [33, 34, 34, 35, 36, 37, 38, 39, 40, 41],\n",
              " [35, 36, 37, 38, 39, 40, 41, 42, 43, 43],\n",
              " [37, 38, 39, 40, 41, 42, 43, 44, 45, 46]]"
            ]
          },
          "metadata": {},
          "execution_count": 62
        }
      ],
      "source": [
        "puntos"
      ]
    },
    {
      "cell_type": "markdown",
      "metadata": {
        "id": "BzAT2eDroNej"
      },
      "source": [
        "### ."
      ]
    },
    {
      "cell_type": "markdown",
      "metadata": {
        "id": "VW-WaEt1oNej"
      },
      "source": [
        "### Construyendo la superficie de respuesta"
      ]
    },
    {
      "cell_type": "code",
      "execution_count": 63,
      "metadata": {
        "id": "4eabTc0moNej"
      },
      "outputs": [],
      "source": [
        "#Esta libreria nos ayuda a generar mapa de colores\n",
        "import matplotlib.cm as cm"
      ]
    },
    {
      "cell_type": "markdown",
      "metadata": {
        "id": "tNJFrhOPoNej"
      },
      "source": [
        "https://matplotlib.org/users/colormaps.html"
      ]
    },
    {
      "cell_type": "code",
      "execution_count": 64,
      "metadata": {
        "id": "W9KEHMleoNek",
        "colab": {
          "base_uri": "https://localhost:8080/",
          "height": 553
        },
        "outputId": "822c3405-4567-4948-d27c-baf622212c18"
      },
      "outputs": [
        {
          "output_type": "display_data",
          "data": {
            "text/plain": [
              "<Figure size 1600x600 with 2 Axes>"
            ],
            "image/png": "[encoded data removed]"
          },
          "metadata": {}
        }
      ],
      "source": [
        "#base\n",
        "plt.figure(figsize=(16,6))\n",
        "plt.xlabel('Harina(kg)', fontsize=16)\n",
        "plt.ylabel('Leche(ml)', fontsize=16)\n",
        "\n",
        "#Mapa de colores\n",
        "mapa_color = plt.imshow(puntos, origin='lower', cmap=cm.rainbow, interpolation='quadric', extent=(0.5,1.5,0.2,0.7))\n",
        "\n",
        "#Barra de color\n",
        "plt.colorbar().set_label('Cantidades', fontsize=16)"
      ]
    },
    {
      "cell_type": "code",
      "execution_count": 65,
      "metadata": {
        "id": "7bN4GJVroNek",
        "colab": {
          "base_uri": "https://localhost:8080/",
          "height": 571
        },
        "outputId": "2bb475c3-89b1-45fd-b741-b004ce7d1861"
      },
      "outputs": [
        {
          "output_type": "execute_result",
          "data": {
            "text/plain": [
              "<a list of 7 text.Text objects>"
            ]
          },
          "metadata": {},
          "execution_count": 65
        },
        {
          "output_type": "display_data",
          "data": {
            "text/plain": [
              "<Figure size 1600x600 with 2 Axes>"
            ],
            "image/png": "[encoded data removed]"
          },
          "metadata": {}
        }
      ],
      "source": [
        "#base\n",
        "plt.figure(figsize=(16,6))\n",
        "plt.xlabel('Harina(kg)', fontsize=16)\n",
        "plt.ylabel('Leche(ml)', fontsize=16)\n",
        "\n",
        "#Mapa de colores\n",
        "mapa_color = plt.imshow(puntos, origin='lower', cmap=cm.rainbow, interpolation='quadric', extent=(0.5,1.5,0.2,0.7))\n",
        "\n",
        "#Barra de color\n",
        "plt.colorbar().set_label('Cantidades', fontsize=16)\n",
        "\n",
        "#linea\n",
        "lineas = plt.contour(x_harina, x_leche, puntos, colors='k', linewidths = 1.5)\n",
        "\n",
        "plt.clabel(lineas, inline=True, fmt = '%1.0f', fontsize=15, inline_spacing = 10)"
      ]
    }
  ],
  "metadata": {
    "kernelspec": {
      "display_name": "Python 3",
      "language": "python",
      "name": "python3"
    },
    "language_info": {
      "codemirror_mode": {
        "name": "ipython",
        "version": 3
      },
      "file_extension": ".py",
      "mimetype": "text/x-python",
      "name": "python",
      "nbconvert_exporter": "python",
      "pygments_lexer": "ipython3",
      "version": "3.7.3"
    },
    "colab": {
      "provenance": [],
      "include_colab_link": true
    }
  },
  "nbformat": 4,
  "nbformat_minor": 0
}